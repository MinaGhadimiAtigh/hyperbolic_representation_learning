{
 "cells": [
  {
   "cell_type": "markdown",
   "metadata": {
    "id": "SwPR5OtnFWJ8"
   },
   "source": [
    "# Hyperbolic Busemann Learning with Ideal Prototypes\n",
    "\n",
    "Welcome to our third notebook for the ECCV 2022 Tutorial \"[Hyperbolic Representation Learning for Computer Vision](https://sites.google.com/view/hyperbolic-tutorial-eccv22)\"!\n",
    "\n",
    "\n",
    "**Open notebook:** \n",
    "[![View on Github](https://img.shields.io/static/v1.svg?logo=github&label=Repo&message=View%20On%20Github&color=lightgrey)](https://github.com/MinaGhadimiAtigh/hyperbolic_representation_learning/blob/main/notebooks/3_Hyperbolic_Busemann_Learning_with_Ideal_prototypes.ipynb)\n",
    "[![Open In Collab](https://colab.research.google.com/assets/colab-badge.svg)](https://colab.research.google.com/github/MinaGhadimiAtigh/hyperbolic_representation_learning/blob/main/notebooks/3_Hyperbolic_Busemann_Learning_with_Ideal_prototypes.ipynb)    \n",
    "\n",
    "**Authors:** Mina Ghadimi Atigh"
   ]
  },
  {
   "cell_type": "markdown",
   "metadata": {
    "id": "aCfrXSTxFv5T"
   },
   "source": [
    "In this notebook, you will go through [Hyperbolic Busemann Learning with Ideal prototypes](https://proceedings.neurips.cc/paper/2021/file/01259a0cb2431834302abe2df60a1327-Paper.pdf), NeurIPS 2021 paper. The code is available in [Github](https://github.com/MinaGhadimiAtigh/Hyperbolic-Busemann-Learning). \n",
    "\n",
    "Building on the success of deep learning with prototypes in Euclidean and hyperspherical spaces, a few recent works have proposed hyperbolic prototypes for classification. Such approaches enable effective learning in low-dimensional output spaces and can exploit hierarchical relations amongst classes, but require privileged information about class labels to position the hyperbolic prototypes. This paper strives to combine the best of both non-Euclidean worlds, namely efficient low-dimensional embeddings from hyperbolic prototypes and the knowledge-free positioning from hyperspherical prototypes.\n",
    "\n",
    "The paper makes three contributions. First, introduces a hyperbolic prototype network with\n",
    "class prototypes given as points on the ideal boundary of the Poincaré ball model of hyperbolic\n",
    "geometry. Second, proposes the penalized Busemann loss, which enables us to compute proximities\n",
    "between example outputs in hyperbolic space and prototypes at the ideal boundary, an impossible\n",
    "task for existing distance metrics, which put the ideal boundary at infinite distance from all other points in hyperbolic space. Third, we provide a theoretical link between our hyperbolic prototype approach and logistic regression."
   ]
  },
  {
   "cell_type": "markdown",
   "metadata": {
    "id": "HJAVuCeWITy2"
   },
   "source": [
    "Let's start with importing the libraries and setting manual seed using `set_seed`."
   ]
  },
  {
   "cell_type": "code",
   "execution_count": 1,
   "metadata": {
    "id": "kjfsd9fZITlz"
   },
   "outputs": [],
   "source": [
    "## standard libraries\n",
    "import math\n",
    "import numpy as np\n",
    "from PIL import Image\n",
    "import warnings\n",
    "\n",
    "## Imports for plotting\n",
    "import matplotlib\n",
    "import matplotlib.pyplot as plt\n",
    "\n",
    "## PyTorch\n",
    "import torch\n",
    "import torch.nn as nn\n",
    "import torch.nn.functional as F\n",
    "import torch.optim as optim\n",
    "\n",
    "## PyTorch Torchvision\n",
    "import torchvision\n",
    "from torchvision import datasets, transforms\n",
    "\n",
    "warnings.filterwarnings('ignore')"
   ]
  },
  {
   "cell_type": "code",
   "execution_count": 2,
   "metadata": {
    "colab": {
     "base_uri": "https://localhost:8080/"
    },
    "id": "n6NpOY-SUWpQ",
    "outputId": "d975f7ae-5c42-4788-a64a-cc6c9350f413"
   },
   "outputs": [],
   "source": [
    "!wget -q https://raw.githubusercontent.com/MinaGhadimiAtigh/Hyperbolic-Busemann-Learning/master/models/cifar/resnet.py\n",
    "!pip install -q git+https://github.com/geoopt/geoopt.git\n",
    "import resnet\n",
    "import geoopt"
   ]
  },
  {
   "cell_type": "code",
   "execution_count": 3,
   "metadata": {
    "colab": {
     "base_uri": "https://localhost:8080/"
    },
    "id": "jIoMsAffH54o",
    "outputId": "7908bbc0-fe21-4339-dc54-b6d5ffab3785"
   },
   "outputs": [
    {
     "name": "stdout",
     "output_type": "stream",
     "text": [
      "Using device cuda:0\n"
     ]
    }
   ],
   "source": [
    "# Function for setting the seed\n",
    "def set_seed(seed):\n",
    "    np.random.seed(seed)\n",
    "    torch.manual_seed(seed)\n",
    "    if torch.cuda.is_available():\n",
    "        torch.cuda.manual_seed(seed)\n",
    "        torch.cuda.manual_seed_all(seed)\n",
    "set_seed(42)\n",
    "\n",
    "# Ensure that all operations are deterministic on GPU (if used) for reproducibility\n",
    "torch.backends.cudnn.determinstic = True\n",
    "torch.backends.cudnn.benchmark = False\n",
    "\n",
    "# Fetching the device that will be used throughout this notebook\n",
    "device = torch.device(\"cpu\") if not torch.cuda.is_available() else torch.device(\"cuda:0\")\n",
    "print(\"Using device\", device)"
   ]
  },
  {
   "cell_type": "markdown",
   "metadata": {
    "id": "tifGXyfwepZZ"
   },
   "source": [
    "## Prototype Learning - Ideal Prototypes\n",
    "\n",
    "The central idea of this paper is to position class prototypes at ideal points, which represent points at infinity in hyperbolic geometry. \n",
    "\n",
    "In the Poincare$'$ model, the ideal points form the boundary of the ball:\n",
    "\n",
    "\\begin{align}\n",
    "\\mathbb{I}_d = \\{\\mathbf{z} \\in \\mathbb{R}^d : z_1^2 + \\cdots + z_d^2 = 1 \\}.\n",
    "\\end{align}\n",
    "\n",
    "Using the same approach as \"[Hyperspherical Prototype Networks](https://proceedings.neurips.cc/paper/2019/file/02a32ad2669e6fe298e607fe7cc0e1a0-Paper.pdf)\", the paper places the prototypes uniformly on the ideal boundary of hyperbole to learn the prototypes.\n",
    "\n",
    "<!-- Thus, the set of ideal points of hyperbolic space $\\mathbb{B}_d$ is homeomorphic to the hypersphere $\\mathbb{S}_d$. As a consequence, any of the methods used for prototype embedding into $\\mathbb{S}_d$ can be used to embed prototypes into $\\mathbb{I}_d$. In particular, for $d=2$, prototypes can be placed uniformly on the unit sphere $\\mathbb{S}_2$, while class-agnostic prototype embedding based on separation can be used for $d\\geq3$ **TODO: should I add citation to HPN**. -->"
   ]
  },
  {
   "cell_type": "code",
   "execution_count": 4,
   "metadata": {
    "id": "Dvfwcdflgw5s"
   },
   "outputs": [],
   "source": [
    "# HYPERPARAMETER\n",
    "\n",
    "## Number of classes to learn prototypes for \n",
    "num_classes = 10\n",
    "## dimension of the learned prototypes (d in the equation)\n",
    "dims = 2\n",
    "\n",
    "\n",
    "## Hyperparameters for prototype learning\n",
    "epochs = 1000\n",
    "learning_rate = 0.1\n",
    "momentum = 0.9\n",
    "\n",
    "# ~~~~~~~~~~~~~~~~~~~~~~~~~~~~~~~~~~~~~~~~~~~~~~~~~~~~~~~~~~~~~~~~~~~~~~~~~~~~~~~~~~~~~~~~~~~~~~~~~~~~~~~~~~~~~~~~~~~~~~~~~~\n",
    "\n",
    "# When prototype dimension >=3, the goal is to find the largest cosine similarity between pairs of prototypes and minimize it.\n",
    "def prototype_loss(prototype):\n",
    "    # Dot product of normalized prototypes is cosine similarity.\n",
    "    product = torch.matmul(prototype, prototypes.t()) + 1\n",
    "    # Remove diagnonal from loss.\n",
    "    product -= 2. * torch.diag(torch.diag(product))\n",
    "    # Minimize maximum cosine similarity.\n",
    "    loss = product.max(dim=1)[0]\n",
    "\n",
    "    return loss.mean(), product.max()\n",
    "\n",
    "# ~~~~~~~~~~~~~~~~~~~~~~~~~~~~~~~~~~~~~~~~~~~~~~~~~~~~~~~~~~~~~~~~~~~~~~~~~~~~~~~~~~~~~~~~~~~~~~~~~~~~~~~~~~~~~~~~~~~~~~~~~~\n",
    "\n",
    "# When prototype dimension=2, learning can be easily performed by splitting the unit-cirlce into equal parts, \n",
    "# seperated by an angle of 2π/n, which n stands for the number of classes. \n",
    "# Then, for each angle ψ, the coordinates are obtained as (cos ψ,sin ψ).\n",
    "\n",
    "def prototype_unify(num_classes):\n",
    "    single_angle = 2 * math.pi / num_classes\n",
    "    help_list = np.array(range(0, num_classes))\n",
    "    angles = (help_list * single_angle).reshape(-1, 1)\n",
    "\n",
    "    sin_points = np.sin(angles)\n",
    "    cos_points = np.cos(angles)\n",
    "\n",
    "    set_prototypes = torch.tensor(np.concatenate((cos_points, sin_points), axis=1))\n",
    "    return set_prototypes\n",
    "\n",
    "# ~~~~~~~~~~~~~~~~~~~~~~~~~~~~~~~~~~~~~~~~~~~~~~~~~~~~~~~~~~~~~~~~~~~~~~~~~~~~~~~~~~~~~~~~~~~~~~~~~~~~~~~~~~~~~~~~~~~~~~~~~~\n",
    "\n",
    "# Now, prototype learning can be performed. \n",
    "# While for d=2 prototype learning consists of only splitting the unit-circle, for d>2, training and optimization is needed.\n",
    "if dims == 2:\n",
    "    prototypes = prototype_unify(num_classes)\n",
    "    prototypes = nn.Parameter(F.normalize(prototypes, p=2, dim=1))\n",
    "\n",
    "elif dims > 2:\n",
    "    prototypes = torch.randn(num_classes, dims)\n",
    "    prototypes = nn.Parameter(F.normalize(prototypes, p=2, dim=1))\n",
    "    optimizer = optim.SGD([prototypes], lr=learning_rate, momentum=momentum)\n",
    "    # Optimize for separation.\n",
    "    for i in range(epochs):\n",
    "        # Compute loss.\n",
    "        loss, _ = prototype_loss(prototypes)\n",
    "        # Update.\n",
    "        loss.backward()\n",
    "        optimizer.step()\n",
    "        # Normalize prototypes again\n",
    "        prototypes = nn.Parameter(F.normalize(prototypes, p=2, dim=1))\n",
    "        optimizer = optim.SGD([prototypes], lr=learning_rate, momentum=momentum)"
   ]
  },
  {
   "cell_type": "markdown",
   "metadata": {
    "id": "utw9wN6j-AgI"
   },
   "source": [
    "Now the prototypes are ready. As you may have noticed, the prototype learning is class agnostic. It only requires the number of classes and dimensions of the prototypes, and there is no need for data.\n",
    "\n",
    "Let's visualize the prototypes when $d = 2$."
   ]
  },
  {
   "cell_type": "code",
   "execution_count": 5,
   "metadata": {
    "colab": {
     "base_uri": "https://localhost:8080/",
     "height": 482
    },
    "id": "bHgJmbIg_Tqh",
    "outputId": "9409e83b-e802-4a86-ecbd-773b3181faba"
   },
   "outputs": [
    {
     "data": {
      "image/png": "[encoded data removed]",
      "text/plain": [
       "<Figure size 800x800 with 1 Axes>"
      ]
     },
     "metadata": {},
     "output_type": "display_data"
    }
   ],
   "source": [
    "if dims == 2:\n",
    "\n",
    "    cmap = plt.get_cmap('gist_earth')\n",
    "    colors_list = [cmap(i) for i in np.linspace(0, 1, num_classes + 4)]\n",
    "\n",
    "    matplotlib.pyplot.figure(figsize=(8, 8))\n",
    "    ax = plt.gca()\n",
    "\n",
    "    for i in range(num_classes):\n",
    "        plt.plot(prototypes[i, 0].detach().numpy(), prototypes[i, 1].detach().numpy(), markersize = 10,  marker = 'D', linestyle='none', color = colors_list[i])\n",
    "\n",
    "    ax.add_patch(plt.Circle((0, 0), 1, fill=True, ec='black', fc='#f8f9f9', linestyle='-.', linewidth=1, zorder=0))\n",
    "\n",
    "    ax.spines['bottom'].set_color('white')\n",
    "    ax.spines['top'].set_color('white')\n",
    "    ax.spines['right'].set_color('white')\n",
    "    ax.spines['left'].set_color('white')\n",
    "\n",
    "    ax.tick_params(\n",
    "        axis='both',   # changes apply to the x-axis\n",
    "        which='both',  # both major and minor ticks are affected\n",
    "        bottom=False,  # ticks along the bottom edge are off\n",
    "        top=False,     # ticks along the top edge are off\n",
    "        left=False,\n",
    "        labelbottom=False)\n",
    "\n",
    "    # Turn off tick labels\n",
    "    ax.set_yticklabels([])\n",
    "    ax.set_xticklabels([])\n",
    "    plt.title('Each point is the prototype learned for one classes.')\n",
    "    plt.show()"
   ]
  },
  {
   "cell_type": "markdown",
   "metadata": {
    "id": "AGH57jJT_Cwc"
   },
   "source": [
    "Throught this tutorial, we will perform prototype learning using the Ideal prototypes. To this end, `CIFAR10` dataset is selected.\n",
    "\n",
    "The first step is downloading and loading the dataset and dataloader."
   ]
  },
  {
   "cell_type": "code",
   "execution_count": 6,
   "metadata": {
    "id": "9q5tM9zg_800"
   },
   "outputs": [],
   "source": [
    "## Path to save the data \n",
    "basedir = '.'\n",
    "\n",
    "## batch size needed to define the dataloader\n",
    "batch_size = 128"
   ]
  },
  {
   "cell_type": "code",
   "execution_count": 7,
   "metadata": {
    "colab": {
     "base_uri": "https://localhost:8080/",
     "height": 84,
     "referenced_widgets": [
      "bdc697b7a035480e9b8cdc85a8005be5",
      "da07729441944c1b977f077652ab913a",
      "4ba963b36e8a4151bb78f03aa6fe816a",
      "a40ed2ac9f9d4377aee61318a89696e9",
      "163fd95495aa466780df9c8a231a8eca",
      "55b0bdc20df549108a857aefbf04d06e",
      "d33461ab6e5e4436b5962f102a60ee90",
      "18bdf107459f4fc58f1340def51f9bc9",
      "451eb18eed914957aa373e118d3c2356",
      "0a464db85bfe4ec9a1a9295a26dbe978",
      "b604838025ed4b8db8ac5c63cb1c3d8d"
     ]
    },
    "id": "lcKE4_tYIHuJ",
    "outputId": "4889d5fa-9dfa-4cc0-a0b6-814f6f664db5"
   },
   "outputs": [
    {
     "name": "stdout",
     "output_type": "stream",
     "text": [
      "Downloading https://www.cs.toronto.edu/~kriz/cifar-10-python.tar.gz to .cifar10/cifar-10-python.tar.gz\n"
     ]
    },
    {
     "name": "stderr",
     "output_type": "stream",
     "text": [
      "100.0%\n"
     ]
    },
    {
     "name": "stdout",
     "output_type": "stream",
     "text": [
      "Extracting .cifar10/cifar-10-python.tar.gz to .cifar10/\n"
     ]
    }
   ],
   "source": [
    "mrgb = [0.507, 0.487, 0.441]\n",
    "srgb = [0.267, 0.256, 0.276]\n",
    "\n",
    "\n",
    "kwargs = {'num_workers': 32, 'pin_memory': True}\n",
    "normalize = transforms.Normalize(mean=mrgb, std=srgb)\n",
    "\n",
    "classes = ['plane', 'car', 'bird', 'cat', 'deer', 'dog', 'frog', 'horse', 'ship', 'truck']\n",
    "\n",
    "# Training Dataset\n",
    "train_dataset = datasets.CIFAR10(root=basedir + 'cifar10/', train=True,\n",
    "                                 transform=transforms.Compose([transforms.RandomCrop(32, 4),\n",
    "                                                               transforms.RandomHorizontalFlip(),\n",
    "                                                               transforms.ToTensor(),\n",
    "                                                               normalize,\n",
    "                                                               ]), download=True)\n",
    "trainloader = torch.utils.data.DataLoader(train_dataset,batch_size=batch_size, shuffle=True, **kwargs)\n",
    "trainloader.dataset.train_labels = torch.from_numpy(np.array(trainloader.dataset.targets))\n",
    "\n",
    "# Testing Dataset\n",
    "test_dataset = datasets.CIFAR10(root=basedir + 'cifar10/', train=False,\n",
    "                                transform=transforms.Compose([transforms.ToTensor(),normalize,]))\n",
    "testloader = torch.utils.data.DataLoader(test_dataset,batch_size=batch_size, shuffle=True, **kwargs)\n",
    "testloader.dataset.test_labels = torch.from_numpy(np.array(testloader.dataset.targets))"
   ]
  },
  {
   "cell_type": "markdown",
   "metadata": {
    "id": "Tpt3PK7TFG8l"
   },
   "source": [
    "Before starting the main task, let's check how images from the dataset look like."
   ]
  },
  {
   "cell_type": "code",
   "execution_count": 8,
   "metadata": {
    "colab": {
     "base_uri": "https://localhost:8080/",
     "height": 181
    },
    "id": "WQNJwXvYAhVk",
    "outputId": "3e1075f1-d772-4777-ff24-1649f3a41956"
   },
   "outputs": [
    {
     "data": {
      "image/png": "[encoded data removed]",
      "text/plain": [
       "<Figure size 1600x800 with 1 Axes>"
      ]
     },
     "metadata": {},
     "output_type": "display_data"
    },
    {
     "name": "stdout",
     "output_type": "stream",
     "text": [
      "  frog          truck         truck         deer          car           car           bird          horse        \n"
     ]
    }
   ],
   "source": [
    "NUM_IMAGES = 8\n",
    "images = [train_dataset[idx][0] for idx in range(NUM_IMAGES)]\n",
    "labels = [train_dataset.targets[idx] for idx in range(NUM_IMAGES)]\n",
    "\n",
    "img_grid = torchvision.utils.make_grid(images, nrow=8, normalize=True, pad_value=0.9)\n",
    "img_grid = img_grid.permute(1, 2, 0)\n",
    "\n",
    "plt.figure(figsize=(16,8))\n",
    "plt.title(\"Examples of CIFAR10\")\n",
    "plt.imshow(img_grid)\n",
    "plt.axis('off')\n",
    "plt.show()\n",
    "plt.close()\n",
    "print('  ' + ' '.join(f'{classes[labels[j]]:13s}' for j in range(NUM_IMAGES)))"
   ]
  },
  {
   "cell_type": "markdown",
   "metadata": {
    "id": "rqUHnQq8N-ng"
   },
   "source": [
    "## Hyperbolic Image Classification using Ideal prototypes\n",
    "\n",
    "The goal of hyperbolic Busemann learning with Ideal prototypes is to learn hyperbolic representations for the given data close to the corresponding ideal prototype. Initially, a Euclidean model, i.e., `ResNet`, is used to extract Euclidean representations. Then, the Euclidean representations are projected to the Hyperbolic space using `Exponential Map`.\n",
    "\n",
    "Once the hyperbolic representations are ready, it's time to calculate the distance to the corresponding Ideal prototype and minimize it. Since the prototypes are on the ideal boundary of hyperbolic space, the Poincare distance results in infinity and cannot be calculated. Therefore, `Penalized Busemann Loss` is proposed in the paper.\n",
    "\n",
    "Given `p` as the prototype and `z` as the hyperbolic data representation,  `Busemann function` and `Penalized Busemann Loss` are calculated using $b_p(z)$ and $\\ell(z, p)$,\n",
    "\n",
    "\\begin{align}\n",
    "b_p(z) = \\log \\frac{||p - z||^2}{(1 - ||z||^2)}\n",
    "\\end{align}\n",
    "\n",
    "\\begin{align}\n",
    "\\ell(z, p) = b_p(z) - \\phi(d) \\cdot \\log(1 - ||z||^2),\n",
    "\\end{align}\n",
    "\n",
    "with $\\phi(d)$ a scaling factor for the penalty term which is a function of the dimension of the hyperbolic space. In the penalized Busemann loss, $\\phi(d)$ governs the amount of regularization. The paper shows that this\n",
    "function should be linear in the number of dimensions. Therefore, $\\phi(d)$ is defined as $s.d$, which $s$ is named as `mult` in the code."
   ]
  },
  {
   "cell_type": "code",
   "execution_count": 9,
   "metadata": {
    "id": "wInKBdPKav-P"
   },
   "outputs": [],
   "source": [
    "# Hyperbolic hyperparameters\n",
    "c = 1.0\n",
    "mult = 0.75"
   ]
  },
  {
   "cell_type": "code",
   "execution_count": 10,
   "metadata": {
    "id": "CuAsX0O8asBN"
   },
   "outputs": [],
   "source": [
    "class PeBusePenalty(nn.Module):\n",
    "    def __init__(self, dimension, mult=1.0):\n",
    "        super(PeBusePenalty, self).__init__()\n",
    "        self.dimension = dimension\n",
    "        self.penalty_constant = mult * self.dimension\n",
    "\n",
    "    def forward(self, p, g):\n",
    "        # first part of loss\n",
    "        prediction_difference = g - p\n",
    "        difference_norm = torch.norm(prediction_difference, dim=1)\n",
    "        difference_log = 2 * torch.log(difference_norm)\n",
    "\n",
    "        # second part of loss\n",
    "        data_norm = torch.norm(p, dim=1)\n",
    "        proto_difference = (1 - data_norm.pow(2) + 1e-6)\n",
    "        proto_log = (1 + self.penalty_constant) * torch.log(proto_difference)\n",
    "\n",
    "        # second part of loss\n",
    "        constant_loss = self.penalty_constant * math.log(2)\n",
    "\n",
    "        one_loss = difference_log - proto_log + constant_loss\n",
    "        total_loss = torch.mean(one_loss)\n",
    "\n",
    "        return total_loss"
   ]
  },
  {
   "cell_type": "markdown",
   "metadata": {
    "id": "EGlpJdJ6bAk7"
   },
   "source": [
    "The `dims` used here is the prototype and output dimensions, initialized when learning prototypes."
   ]
  },
  {
   "cell_type": "code",
   "execution_count": 11,
   "metadata": {
    "id": "M5X-dGmUa-oX"
   },
   "outputs": [],
   "source": [
    "f_loss = PeBusePenalty(dims, mult)"
   ]
  },
  {
   "cell_type": "markdown",
   "metadata": {
    "id": "713RQg9cV919"
   },
   "source": [
    "Let's first initialize hyperparamers and optimizers."
   ]
  },
  {
   "cell_type": "code",
   "execution_count": 12,
   "metadata": {
    "id": "QxbjlGqvY713"
   },
   "outputs": [],
   "source": [
    "# General hyperparameters\n",
    "learning_rate = 0.0005\n",
    "decay = 0.00005\n",
    "epochs = 100\n",
    "drop1 = 1000\n",
    "drop2 = 1100\n",
    "do_decay = True"
   ]
  },
  {
   "cell_type": "markdown",
   "metadata": {
    "id": "R_bmLSetZkPk"
   },
   "source": [
    "`ResNet32` is initialized and used to extract Euclidean representations of the input data."
   ]
  },
  {
   "cell_type": "code",
   "execution_count": 13,
   "metadata": {
    "id": "XiPoO9kdUf3l"
   },
   "outputs": [],
   "source": [
    "model = resnet.ResNet(32, dims, 1, prototypes.float())\n",
    "model = model.to(device)"
   ]
  },
  {
   "cell_type": "code",
   "execution_count": 14,
   "metadata": {
    "id": "a-e4qqIbduis"
   },
   "outputs": [],
   "source": [
    "# Optimizer\n",
    "optimizer = optim.Adam(model.parameters(), lr=learning_rate, weight_decay=decay)"
   ]
  },
  {
   "cell_type": "markdown",
   "metadata": {
    "id": "gdAJCxb0bTIB"
   },
   "source": [
    "Now, everything is ready to start training."
   ]
  },
  {
   "cell_type": "code",
   "execution_count": 15,
   "metadata": {
    "colab": {
     "base_uri": "https://localhost:8080/"
    },
    "id": "KClkIxC3VYI_",
    "outputId": "c678a203-3ccc-4135-f543-510c3e4f8f4d"
   },
   "outputs": [
    {
     "name": "stdout",
     "output_type": "stream",
     "text": [
      "Training started:\n",
      "~~~~~~~~~~~~~~~~~~~~~~~~~~~~~~~~~~~~~~~~~~~~~~~~~~~~~~~~~~~~~~~~~~~~~\n",
      "Epoch 10 :\n",
      "Training Loss:0.004980027570724487 , Training Accuracy: 0.64096\n",
      "Val Loss:0.005297535902261734 , Val Accuracy: 0.6272\n",
      "~~~~~~~~~~~~~~~~~~~~~~~~~~~~~~~~~~~~~~~~~~~~~~~~~~~~~~~~~~~~~~~~~~~~~\n",
      "Epoch 20 :\n",
      "Training Loss:0.004105883414745331 , Training Accuracy: 0.78252\n",
      "Val Loss:0.004605498462915421 , Val Accuracy: 0.7443\n",
      "~~~~~~~~~~~~~~~~~~~~~~~~~~~~~~~~~~~~~~~~~~~~~~~~~~~~~~~~~~~~~~~~~~~~~\n",
      "Epoch 30 :\n",
      "Training Loss:0.0037260478436946867 , Training Accuracy: 0.83498\n",
      "Val Loss:0.004251863679289818 , Val Accuracy: 0.7945\n",
      "~~~~~~~~~~~~~~~~~~~~~~~~~~~~~~~~~~~~~~~~~~~~~~~~~~~~~~~~~~~~~~~~~~~~~\n",
      "Epoch 40 :\n",
      "Training Loss:0.003505309413075447 , Training Accuracy: 0.86814\n",
      "Val Loss:0.0040145975530147555 , Val Accuracy: 0.8232\n",
      "~~~~~~~~~~~~~~~~~~~~~~~~~~~~~~~~~~~~~~~~~~~~~~~~~~~~~~~~~~~~~~~~~~~~~\n",
      "Epoch 50 :\n",
      "Training Loss:0.0033344823771715164 , Training Accuracy: 0.88842\n",
      "Val Loss:0.003981673476099968 , Val Accuracy: 0.8303\n",
      "~~~~~~~~~~~~~~~~~~~~~~~~~~~~~~~~~~~~~~~~~~~~~~~~~~~~~~~~~~~~~~~~~~~~~\n",
      "Epoch 60 :\n",
      "Training Loss:0.0032073852705955504 , Training Accuracy: 0.90586\n",
      "Val Loss:0.004107096675038338 , Val Accuracy: 0.8331\n",
      "~~~~~~~~~~~~~~~~~~~~~~~~~~~~~~~~~~~~~~~~~~~~~~~~~~~~~~~~~~~~~~~~~~~~~\n",
      "Epoch 70 :\n",
      "Training Loss:0.00313653585255146 , Training Accuracy: 0.91532\n",
      "Val Loss:0.003802865654230118 , Val Accuracy: 0.8562\n",
      "~~~~~~~~~~~~~~~~~~~~~~~~~~~~~~~~~~~~~~~~~~~~~~~~~~~~~~~~~~~~~~~~~~~~~\n",
      "Epoch 80 :\n",
      "Training Loss:0.0030833755123615266 , Training Accuracy: 0.9211\n",
      "Val Loss:0.0038534139961004256 , Val Accuracy: 0.8557\n",
      "~~~~~~~~~~~~~~~~~~~~~~~~~~~~~~~~~~~~~~~~~~~~~~~~~~~~~~~~~~~~~~~~~~~~~\n",
      "Epoch 90 :\n",
      "Training Loss:0.0030213140720129015 , Training Accuracy: 0.92978\n",
      "Val Loss:0.003996825054287911 , Val Accuracy: 0.8489\n",
      "~~~~~~~~~~~~~~~~~~~~~~~~~~~~~~~~~~~~~~~~~~~~~~~~~~~~~~~~~~~~~~~~~~~~~\n",
      "Epoch 99 :\n",
      "Training Loss:0.002990082864165306 , Training Accuracy: 0.93196\n",
      "Val Loss:0.0038682255685329437 , Val Accuracy: 0.8623\n"
     ]
    }
   ],
   "source": [
    "manifold = geoopt.PoincareBall(c=c)\n",
    "print('Training started:')\n",
    "for i in range(epochs):\n",
    "    # Learning rate decay.\n",
    "    if i in [drop1, drop2] and do_decay:\n",
    "        learning_rate *= 0.1\n",
    "        for param_group in optimizer.param_groups:\n",
    "            param_group['lr'] = learning_rate\n",
    "    # ~~~~~~~~~~~~~~~~~~~~~~~~~~~~~~~~~~~~~~~~~~~~~~~~~~~~~~~~~\n",
    "    avg_loss = 0\n",
    "    sum_loss = 0\n",
    "    count = 0\n",
    "    acc = 0\n",
    "    model.train()\n",
    "    for bidx, (data, target) in enumerate(trainloader):\n",
    "        target_tmp = target.to(device)\n",
    "        target = model.polars[target]\n",
    "        \n",
    "        data = torch.autograd.Variable(data).to(device)\n",
    "        target = torch.autograd.Variable(target).to(device)\n",
    "\n",
    "        output = model(data)\n",
    "        output_exp_map = manifold.expmap0(output)\n",
    "\n",
    "        loss_func = f_loss(output_exp_map, target)\n",
    "\n",
    "\n",
    "        optimizer.zero_grad()\n",
    "        loss_func.backward()\n",
    "        optimizer.step()\n",
    "\n",
    "        sum_loss += loss_func.item()\n",
    "        count += 1.\n",
    "\n",
    "        output = model.predict(output_exp_map).float()\n",
    "        pred = output.max(1, keepdim=True)[1]\n",
    "        acc += pred.eq(target_tmp.view_as(pred)).sum().item()\n",
    "\n",
    "    avg_loss = sum_loss / float(len(trainloader.dataset))\n",
    "    avg_acc = acc / float(len(trainloader.dataset))\n",
    "    \n",
    "    # ~~~~~~~~~~~~~~~~~~~~~~~~~~~~~~~~~~~~~~~~~~~~~~~~~~~~~~~~~\n",
    "    if i != 0 and (i % 10 == 0 or i == epochs - 1):\n",
    "        valid_acc = 0\n",
    "        valid_loss = 0\n",
    "        model.eval()\n",
    "        with torch.no_grad():\n",
    "            for data_val, target_val in testloader:\n",
    "                data_val = torch.autograd.Variable(data_val).to(device)\n",
    "                target_val = torch.autograd.Variable(target_val).to(device)\n",
    "                target_loss_val = model.polars[target_val]\n",
    "\n",
    "                output_val = model(data_val).float()\n",
    "                output_val_exp_map = manifold.expmap0(output_val)\n",
    "\n",
    "                output_val = model.predict(output_val_exp_map).float()\n",
    "                pred_val = output_val.max(1, keepdim=True)[1]\n",
    "                valid_acc += pred_val.eq(target_val.view_as(pred_val)).sum().item()\n",
    "\n",
    "                valid_loss += f_loss(output_val_exp_map, target_loss_val.to(device)).item()\n",
    "            \n",
    "        len_test = len(testloader.dataset)\n",
    "\n",
    "        valid_avg_acc = valid_acc / float(len_test)\n",
    "        valid_avg_loss = valid_loss / float(len_test)\n",
    "        print('~~~~~~~~~~~~~~~~~~~~~~~~~~~~~~~~~~~~~~~~~~~~~~~~~~~~~~~~~~~~~~~~~~~~~')\n",
    "        print('Epoch '+str(i)+' :' )\n",
    "        print('Training Loss:' + str(avg_loss)+' , Training Accuracy: '+str(avg_acc))\n",
    "        print('Val Loss:' + str(valid_avg_loss)+' , Val Accuracy: '+str(valid_avg_acc)) "
   ]
  },
  {
   "cell_type": "markdown",
   "metadata": {
    "id": "FF_xsFR1PYvf"
   },
   "source": [
    "Let's visualize the output space."
   ]
  },
  {
   "cell_type": "code",
   "execution_count": 16,
   "metadata": {
    "id": "-cYLPDbsS69H"
   },
   "outputs": [],
   "source": [
    "output_vectors = []\n",
    "gt_labels = []\n",
    "\n",
    "model.eval()\n",
    "with torch.no_grad():\n",
    "    for data_val, target_val in testloader:\n",
    "        data_val = torch.autograd.Variable(data_val).to(device)\n",
    "        target_val = torch.autograd.Variable(target_val).to(device)\n",
    "        target_loss_val = model.polars[target_val]\n",
    "\n",
    "        output_val = model(data_val).float()\n",
    "        output_val_exp_map = manifold.expmap0(output_val)\n",
    "\n",
    "        output_vectors.extend(output_val_exp_map.cpu().numpy().tolist())\n",
    "        gt_labels.extend(target_val.cpu().numpy().tolist())\n",
    "    \n",
    "output_vectors = np.array(output_vectors)\n",
    "gt_labels = np.array(gt_labels).reshape(-1, 1)\n",
    "# Let's select a subset of the data!\n",
    "subset_index = np.random.choice(np.array(range(0,gt_labels.shape[0])), 1000, replace=False)\n",
    "\n",
    "output_vectors_small = output_vectors[subset_index, :]\n",
    "gt_labels_small = gt_labels[subset_index]"
   ]
  },
  {
   "cell_type": "code",
   "execution_count": 17,
   "metadata": {
    "colab": {
     "base_uri": "https://localhost:8080/",
     "height": 482
    },
    "id": "nPwJf_i8QWsF",
    "outputId": "8f05fbd4-1354-4475-dc4f-bad6e7255dd4"
   },
   "outputs": [
    {
     "data": {
      "image/png": "[encoded data removed]",
      "text/plain": [
       "<Figure size 800x800 with 1 Axes>"
      ]
     },
     "metadata": {},
     "output_type": "display_data"
    }
   ],
   "source": [
    "cmap = plt.get_cmap('gist_earth')\n",
    "colors_list = [cmap(i) for i in np.linspace(0, 1, num_classes + 4)]\n",
    "\n",
    "if dims == 2:\n",
    "    matplotlib.pyplot.figure(figsize=(8, 8))\n",
    "    ax = plt.gca()\n",
    "\n",
    "    for i in range(num_classes):\n",
    "        plt.plot(prototypes[i, 0].detach().numpy(), prototypes[i, 1].detach().numpy(), markersize = 10,  marker = 'D', linestyle='none', color = colors_list[i])\n",
    "\n",
    "        output_vectors_small_i = output_vectors_small[np.where(gt_labels_small == i)[0], :]\n",
    "        ax.scatter(output_vectors_small_i[:, 0], output_vectors_small_i[:, 1], color = colors_list[i])\n",
    "\n",
    "    ax.add_patch(plt.Circle((0, 0), 1, fill=True, ec='black', fc='#f8f9f9', linestyle='-.', linewidth=1, zorder=0))\n",
    "\n",
    "    ax.spines['bottom'].set_color('white')\n",
    "    ax.spines['top'].set_color('white')\n",
    "    ax.spines['right'].set_color('white')\n",
    "    ax.spines['left'].set_color('white')\n",
    "\n",
    "    ax.tick_params(\n",
    "        axis='both',   # changes apply to the x-axis\n",
    "        which='both',  # both major and minor ticks are affected\n",
    "        bottom=False,  # ticks along the bottom edge are off\n",
    "        top=False,     # ticks along the top edge are off\n",
    "        left=False,\n",
    "        labelbottom=False)\n",
    "\n",
    "    # Turn off tick labels\n",
    "    ax.set_yticklabels([])\n",
    "    ax.set_xticklabels([])\n",
    "    plt.title('Each point is the prototype learned for one classes.')\n",
    "    plt.show()"
   ]
  }
 ],
 "metadata": {
  "accelerator": "GPU",
  "colab": {
   "collapsed_sections": [],
   "provenance": []
  },
  "gpuClass": "standard",
  "kernelspec": {
   "display_name": "Python 3",
   "language": "python",
   "name": "python3"
  },
  "language_info": {
   "codemirror_mode": {
    "name": "ipython",
    "version": 3
   },
   "file_extension": ".py",
   "mimetype": "text/x-python",
   "name": "python",
   "nbconvert_exporter": "python",
   "pygments_lexer": "ipython3",
   "version": "3.7.13"
  },
  "widgets": {
   "application/vnd.jupyter.widget-state+json": {
    "0a464db85bfe4ec9a1a9295a26dbe978": {
     "model_module": "@jupyter-widgets/base",
     "model_module_version": "1.2.0",
     "model_name": "LayoutModel",
     "state": {
      "_model_module": "@jupyter-widgets/base",
      "_model_module_version": "1.2.0",
      "_model_name": "LayoutModel",
      "_view_count": null,
      "_view_module": "@jupyter-widgets/base",
      "_view_module_version": "1.2.0",
      "_view_name": "LayoutView",
      "align_content": null,
      "align_items": null,
      "align_self": null,
      "border": null,
      "bottom": null,
      "display": null,
      "flex": null,
      "flex_flow": null,
      "grid_area": null,
      "grid_auto_columns": null,
      "grid_auto_flow": null,
      "grid_auto_rows": null,
      "grid_column": null,
      "grid_gap": null,
      "grid_row": null,
      "grid_template_areas": null,
      "grid_template_columns": null,
      "grid_template_rows": null,
      "height": null,
      "justify_content": null,
      "justify_items": null,
      "left": null,
      "margin": null,
      "max_height": null,
      "max_width": null,
      "min_height": null,
      "min_width": null,
      "object_fit": null,
      "object_position": null,
      "order": null,
      "overflow": null,
      "overflow_x": null,
      "overflow_y": null,
      "padding": null,
      "right": null,
      "top": null,
      "visibility": null,
      "width": null
     }
    },
    "163fd95495aa466780df9c8a231a8eca": {
     "model_module": "@jupyter-widgets/base",
     "model_module_version": "1.2.0",
     "model_name": "LayoutModel",
     "state": {
      "_model_module": "@jupyter-widgets/base",
      "_model_module_version": "1.2.0",
      "_model_name": "LayoutModel",
      "_view_count": null,
      "_view_module": "@jupyter-widgets/base",
      "_view_module_version": "1.2.0",
      "_view_name": "LayoutView",
      "align_content": null,
      "align_items": null,
      "align_self": null,
      "border": null,
      "bottom": null,
      "display": null,
      "flex": null,
      "flex_flow": null,
      "grid_area": null,
      "grid_auto_columns": null,
      "grid_auto_flow": null,
      "grid_auto_rows": null,
      "grid_column": null,
      "grid_gap": null,
      "grid_row": null,
      "grid_template_areas": null,
      "grid_template_columns": null,
      "grid_template_rows": null,
      "height": null,
      "justify_content": null,
      "justify_items": null,
      "left": null,
      "margin": null,
      "max_height": null,
      "max_width": null,
      "min_height": null,
      "min_width": null,
      "object_fit": null,
      "object_position": null,
      "order": null,
      "overflow": null,
      "overflow_x": null,
      "overflow_y": null,
      "padding": null,
      "right": null,
      "top": null,
      "visibility": null,
      "width": null
     }
    },
    "18bdf107459f4fc58f1340def51f9bc9": {
     "model_module": "@jupyter-widgets/base",
     "model_module_version": "1.2.0",
     "model_name": "LayoutModel",
     "state": {
      "_model_module": "@jupyter-widgets/base",
      "_model_module_version": "1.2.0",
      "_model_name": "LayoutModel",
      "_view_count": null,
      "_view_module": "@jupyter-widgets/base",
      "_view_module_version": "1.2.0",
      "_view_name": "LayoutView",
      "align_content": null,
      "align_items": null,
      "align_self": null,
      "border": null,
      "bottom": null,
      "display": null,
      "flex": null,
      "flex_flow": null,
      "grid_area": null,
      "grid_auto_columns": null,
      "grid_auto_flow": null,
      "grid_auto_rows": null,
      "grid_column": null,
      "grid_gap": null,
      "grid_row": null,
      "grid_template_areas": null,
      "grid_template_columns": null,
      "grid_template_rows": null,
      "height": null,
      "justify_content": null,
      "justify_items": null,
      "left": null,
      "margin": null,
      "max_height": null,
      "max_width": null,
      "min_height": null,
      "min_width": null,
      "object_fit": null,
      "object_position": null,
      "order": null,
      "overflow": null,
      "overflow_x": null,
      "overflow_y": null,
      "padding": null,
      "right": null,
      "top": null,
      "visibility": null,
      "width": null
     }
    },
    "451eb18eed914957aa373e118d3c2356": {
     "model_module": "@jupyter-widgets/controls",
     "model_module_version": "1.5.0",
     "model_name": "ProgressStyleModel",
     "state": {
      "_model_module": "@jupyter-widgets/controls",
      "_model_module_version": "1.5.0",
      "_model_name": "ProgressStyleModel",
      "_view_count": null,
      "_view_module": "@jupyter-widgets/base",
      "_view_module_version": "1.2.0",
      "_view_name": "StyleView",
      "bar_color": null,
      "description_width": ""
     }
    },
    "4ba963b36e8a4151bb78f03aa6fe816a": {
     "model_module": "@jupyter-widgets/controls",
     "model_module_version": "1.5.0",
     "model_name": "FloatProgressModel",
     "state": {
      "_dom_classes": [],
      "_model_module": "@jupyter-widgets/controls",
      "_model_module_version": "1.5.0",
      "_model_name": "FloatProgressModel",
      "_view_count": null,
      "_view_module": "@jupyter-widgets/controls",
      "_view_module_version": "1.5.0",
      "_view_name": "ProgressView",
      "bar_style": "success",
      "description": "",
      "description_tooltip": null,
      "layout": "IPY_MODEL_18bdf107459f4fc58f1340def51f9bc9",
      "max": 170498071,
      "min": 0,
      "orientation": "horizontal",
      "style": "IPY_MODEL_451eb18eed914957aa373e118d3c2356",
      "value": 170498071
     }
    },
    "55b0bdc20df549108a857aefbf04d06e": {
     "model_module": "@jupyter-widgets/base",
     "model_module_version": "1.2.0",
     "model_name": "LayoutModel",
     "state": {
      "_model_module": "@jupyter-widgets/base",
      "_model_module_version": "1.2.0",
      "_model_name": "LayoutModel",
      "_view_count": null,
      "_view_module": "@jupyter-widgets/base",
      "_view_module_version": "1.2.0",
      "_view_name": "LayoutView",
      "align_content": null,
      "align_items": null,
      "align_self": null,
      "border": null,
      "bottom": null,
      "display": null,
      "flex": null,
      "flex_flow": null,
      "grid_area": null,
      "grid_auto_columns": null,
      "grid_auto_flow": null,
      "grid_auto_rows": null,
      "grid_column": null,
      "grid_gap": null,
      "grid_row": null,
      "grid_template_areas": null,
      "grid_template_columns": null,
      "grid_template_rows": null,
      "height": null,
      "justify_content": null,
      "justify_items": null,
      "left": null,
      "margin": null,
      "max_height": null,
      "max_width": null,
      "min_height": null,
      "min_width": null,
      "object_fit": null,
      "object_position": null,
      "order": null,
      "overflow": null,
      "overflow_x": null,
      "overflow_y": null,
      "padding": null,
      "right": null,
      "top": null,
      "visibility": null,
      "width": null
     }
    },
    "a40ed2ac9f9d4377aee61318a89696e9": {
     "model_module": "@jupyter-widgets/controls",
     "model_module_version": "1.5.0",
     "model_name": "HTMLModel",
     "state": {
      "_dom_classes": [],
      "_model_module": "@jupyter-widgets/controls",
      "_model_module_version": "1.5.0",
      "_model_name": "HTMLModel",
      "_view_count": null,
      "_view_module": "@jupyter-widgets/controls",
      "_view_module_version": "1.5.0",
      "_view_name": "HTMLView",
      "description": "",
      "description_tooltip": null,
      "layout": "IPY_MODEL_0a464db85bfe4ec9a1a9295a26dbe978",
      "placeholder": "​",
      "style": "IPY_MODEL_b604838025ed4b8db8ac5c63cb1c3d8d",
      "value": " 170498071/170498071 [00:13&lt;00:00, 13459255.73it/s]"
     }
    },
    "b604838025ed4b8db8ac5c63cb1c3d8d": {
     "model_module": "@jupyter-widgets/controls",
     "model_module_version": "1.5.0",
     "model_name": "DescriptionStyleModel",
     "state": {
      "_model_module": "@jupyter-widgets/controls",
      "_model_module_version": "1.5.0",
      "_model_name": "DescriptionStyleModel",
      "_view_count": null,
      "_view_module": "@jupyter-widgets/base",
      "_view_module_version": "1.2.0",
      "_view_name": "StyleView",
      "description_width": ""
     }
    },
    "bdc697b7a035480e9b8cdc85a8005be5": {
     "model_module": "@jupyter-widgets/controls",
     "model_module_version": "1.5.0",
     "model_name": "HBoxModel",
     "state": {
      "_dom_classes": [],
      "_model_module": "@jupyter-widgets/controls",
      "_model_module_version": "1.5.0",
      "_model_name": "HBoxModel",
      "_view_count": null,
      "_view_module": "@jupyter-widgets/controls",
      "_view_module_version": "1.5.0",
      "_view_name": "HBoxView",
      "box_style": "",
      "children": [
       "IPY_MODEL_da07729441944c1b977f077652ab913a",
       "IPY_MODEL_4ba963b36e8a4151bb78f03aa6fe816a",
       "IPY_MODEL_a40ed2ac9f9d4377aee61318a89696e9"
      ],
      "layout": "IPY_MODEL_163fd95495aa466780df9c8a231a8eca"
     }
    },
    "d33461ab6e5e4436b5962f102a60ee90": {
     "model_module": "@jupyter-widgets/controls",
     "model_module_version": "1.5.0",
     "model_name": "DescriptionStyleModel",
     "state": {
      "_model_module": "@jupyter-widgets/controls",
      "_model_module_version": "1.5.0",
      "_model_name": "DescriptionStyleModel",
      "_view_count": null,
      "_view_module": "@jupyter-widgets/base",
      "_view_module_version": "1.2.0",
      "_view_name": "StyleView",
      "description_width": ""
     }
    },
    "da07729441944c1b977f077652ab913a": {
     "model_module": "@jupyter-widgets/controls",
     "model_module_version": "1.5.0",
     "model_name": "HTMLModel",
     "state": {
      "_dom_classes": [],
      "_model_module": "@jupyter-widgets/controls",
      "_model_module_version": "1.5.0",
      "_model_name": "HTMLModel",
      "_view_count": null,
      "_view_module": "@jupyter-widgets/controls",
      "_view_module_version": "1.5.0",
      "_view_name": "HTMLView",
      "description": "",
      "description_tooltip": null,
      "layout": "IPY_MODEL_55b0bdc20df549108a857aefbf04d06e",
      "placeholder": "​",
      "style": "IPY_MODEL_d33461ab6e5e4436b5962f102a60ee90",
      "value": "100%"
     }
    }
   }
  }
 },
 "nbformat": 4,
 "nbformat_minor": 1
}
