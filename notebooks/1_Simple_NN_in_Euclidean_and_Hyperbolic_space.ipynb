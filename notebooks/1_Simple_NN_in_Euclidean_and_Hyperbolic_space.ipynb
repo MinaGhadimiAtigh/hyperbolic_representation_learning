{
 "cells": [
  {
   "cell_type": "markdown",
   "metadata": {
    "id": "B36hiH-mLREY"
   },
   "source": [
    "# Image Classification with Euclidean and Hyperbolic Neural Network\n",
    "\n",
    "Welcome to our first notebook for the ECCV 2022 Tutorial \"[Hyperbolic Representation Learning for Computer Vision](https://sites.google.com/view/hyperbolic-tutorial-eccv22)\"!\n",
    "\n",
    "**TODO1**: change these links\n",
    "\n",
    "**Open notebook:** \n",
    "[![View on Github](https://img.shields.io/static/v1.svg?logo=github&label=Repo&message=View%20On%20Github&color=lightgrey)](https://github.com/phlippe/asci_cbl_practicals/blob/main/notebooks/1_MLPs.ipynb)\n",
    "[![Open In Collab](https://colab.research.google.com/assets/colab-badge.svg)](https://colab.research.google.com/github/phlippe/asci_cbl_practicals/blob/main/notebooks/1_MLPs.ipynb)  \n",
    "\n",
    "**Author:** Mina Ghadimi Atigh"
   ]
  },
  {
   "cell_type": "markdown",
   "metadata": {
    "id": "QxU-tJrfUs79"
   },
   "source": [
    "In this notebook, you will perform a simple image classification task using two Neural Networks, one in Euclidean space and one in the hyperbolic space. The main goal is to go through the training and testing process in Euclidean and hyperbolic spaces and see the similarities and the differences.\n",
    "\n",
    "If you prefer working with standard python scripts, feel free to convert this notebook into a python script. To open this notebook on Google Colab, use the button above. Note that you need to copy this notebook into your own Google Drive to save the notebook and trained models. Otherwise, your progress will be lost when you close the browser tab.\n"
   ]
  },
  {
   "cell_type": "markdown",
   "metadata": {
    "id": "wbGnvJGLVlSe"
   },
   "source": [
    "Let's start with importing the libraries and setting manual seed using `set_seed`."
   ]
  },
  {
   "cell_type": "code",
   "execution_count": 1,
   "metadata": {
    "id": "6lH1r7TrUTDI"
   },
   "outputs": [],
   "source": [
    "## standard libraries\n",
    "import numpy as np\n",
    "import warnings\n",
    "from IPython.display import clear_output\n",
    "\n",
    "## Imports for plotting\n",
    "import matplotlib.pyplot as plt\n",
    "\n",
    "## PyTorch\n",
    "import torch\n",
    "import torch.nn as nn\n",
    "import torch.nn.functional as F\n",
    "import torch.optim as optim\n",
    "\n",
    "## PyTorch Torchvision\n",
    "import torchvision\n",
    "\n",
    "warnings.filterwarnings('ignore')"
   ]
  },
  {
   "cell_type": "code",
   "execution_count": 2,
   "metadata": {
    "colab": {
     "base_uri": "https://localhost:8080/"
    },
    "id": "h5YtvanB-qeK",
    "outputId": "181e3cdc-01b3-4688-ddbe-abcd22741fe3"
   },
   "outputs": [
    {
     "name": "stdout",
     "output_type": "stream",
     "text": [
      "Using device cuda:0\n"
     ]
    }
   ],
   "source": [
    "# Function for setting the seed\n",
    "def set_seed(seed):\n",
    "    np.random.seed(seed)\n",
    "    torch.manual_seed(seed)\n",
    "    if torch.cuda.is_available():\n",
    "        torch.cuda.manual_seed(seed)\n",
    "        torch.cuda.manual_seed_all(seed)\n",
    "set_seed(42)\n",
    "\n",
    "# Ensure that all operations are deterministic on GPU (if used) for reproducibility\n",
    "torch.backends.cudnn.determinstic = True\n",
    "torch.backends.cudnn.benchmark = False\n",
    "\n",
    "# Fetching the device that will be used throughout this notebook\n",
    "device = torch.device(\"cpu\") if not torch.cuda.is_available() else torch.device(\"cuda:0\")\n",
    "print(\"Using device\", device)"
   ]
  },
  {
   "cell_type": "markdown",
   "metadata": {
    "id": "NDEwear4N7MA"
   },
   "source": [
    "For the Hyperbolic layers and functions, we're going to use geoopt library in this notebook."
   ]
  },
  {
   "cell_type": "code",
   "execution_count": 3,
   "metadata": {
    "id": "QQ_t736yOfaK"
   },
   "outputs": [],
   "source": [
    "!pip install -q git+https://github.com/geoopt/geoopt.git\n",
    "! [ ! -f mobius_linear_example.py ] && wget -q https://raw.githubusercontent.com/geoopt/geoopt/master/examples/mobius_linear_example.py"
   ]
  },
  {
   "cell_type": "code",
   "execution_count": 3,
   "metadata": {
    "id": "E5Zt53SnOhGJ"
   },
   "outputs": [],
   "source": [
    "import geoopt\n",
    "from mobius_linear_example import MobiusLinear"
   ]
  },
  {
   "cell_type": "markdown",
   "metadata": {
    "id": "Ce1Crta0OrLk"
   },
   "source": [
    "Here, we define the paths which will be used in this notebook."
   ]
  },
  {
   "cell_type": "code",
   "execution_count": 4,
   "metadata": {
    "id": "r7Wvksp8eAh7"
   },
   "outputs": [],
   "source": [
    "DATA_PATH = './data'"
   ]
  },
  {
   "cell_type": "markdown",
   "metadata": {
    "id": "_fvFgVAaWFtG"
   },
   "source": [
    "Let's start with setting up the dataset. In this notebook, you will work with `MNIST` dataset. MNIST consists of 70000 tiny (28*28) gray scale images of handwritten digits, from zero to nine. The goal is to recognize the digit corresponding to each image."
   ]
  },
  {
   "cell_type": "code",
   "execution_count": 5,
   "metadata": {
    "colab": {
     "base_uri": "https://localhost:8080/",
     "height": 423,
     "referenced_widgets": [
      "995d015dcf3b452e85742c5eea660064",
      "801007438163403591daf4218a0825cc",
      "c9124614852d46d9a111bec0ec03e509",
      "637a7991c79b49f9928259e386c31e7d",
      "62017fd3a3014c04ad6294d363771cf0",
      "16979721c7444c52a282b318160c9586",
      "002bd74778cb4b8da294b4d5f4923e5a",
      "d79cd089fe6540b091b55c677b62967e",
      "d1051e8fde8f4adf8718b27ddbf7c62a",
      "97074fecae464f3f87e907c4f0cf1884",
      "052d04deed0b4a0eb3fc953ab255e5e4",
      "6f7b6a2d42a64e0aa3a285ccb9a7ab43",
      "9a862696188a46d1aa314af61d6574d6",
      "b581f32916574ee6966434311422bf99",
      "6a98047e1ab944899984c2b1d18d78f4",
      "a596527976494de8b123c198ed6ad481",
      "bd0f6652f5dd4f799cdc5c308bb21bf5",
      "dd67739ea09641b396376108d1d0208b",
      "cf7ba4a0d470417e9f8254d3d6840ea5",
      "2192a5dd584a487a903a60b7837f9d65",
      "9e8e11e458054415a57572a6665fc8a8",
      "8d284174e0d64be6a57e9ab5d78eda11",
      "eecdc0d6ec0e499cbdbce64783ed1123",
      "5c247e41508f4bdb8b7c768bf093accb",
      "1e655534822245e8adb36db4cb115d13",
      "10ba0efce9e5430c902cdcf56bab09e4",
      "f243551123fc4dd6a05a9486200614a5",
      "082b385bad4d4e7281a07f77f0cc9cd4",
      "2153a2fbcd98499cafadc5b413cc25f7",
      "d02055dd894c442280f796d130869884",
      "de94640096be496399872f2e94bec4ad",
      "5331b18b991f46f1815942d08c267b44",
      "08cc32263dfa421fa7040d3ba8d22bd8",
      "550154eb777248e590bb8db09ff7a90c",
      "e490e5a6fbea4c87839b4bdfadc8c52e",
      "e010dc5beaf6408f91b22cbac009a395",
      "9d4dd00ba16b403cb233336aab50b80c",
      "51fae820bd914df5b65bbb2678cc05f8",
      "f6aa342888e54445b4447a9fff11f9dc",
      "89b8e5dd0da84f96965e649613e14c54",
      "816d67b923bd4a53b427ee385943b4df",
      "62b3030b82724d72b2bccc65526778da",
      "daecebdd1d6648da9a1fb55ab0c476de",
      "ed605bbbb43b4fdf9bbf8daa08093341"
     ]
    },
    "id": "lD2bxB21cPen",
    "outputId": "6cd88e75-eaf3-447c-e708-9b31ebeedccd"
   },
   "outputs": [],
   "source": [
    "transform=torchvision.transforms.Compose([\n",
    "    torchvision.transforms.ToTensor(),\n",
    "    torchvision.transforms.Normalize((0.1307,), (0.3081,))\n",
    "    ])\n",
    "\n",
    "# Train dataset - downloading the training dataset. Training dataset is splitted into train and val parts.\n",
    "main_trainset = torchvision.datasets.MNIST(root=DATA_PATH, train = True, download=True, transform=transform)\n",
    "trainset, valset = torch.utils.data.random_split(main_trainset, [10000, 50000], generator=torch.Generator().manual_seed(42))\n",
    "\n",
    "# Test dataset - downloading and loading the testing dataset.\n",
    "testset = torchvision.datasets.MNIST(root=DATA_PATH, train=False, download=True, transform=transform)\n",
    "testset_small, _ = torch.utils.data.random_split(main_trainset, [30000, 30000], generator=torch.Generator().manual_seed(42))\n",
    "\n",
    "# Create dataloaders for the train, val and test sets\n",
    "batch_size = 8\n",
    "trainloader = torch.utils.data.DataLoader(trainset, batch_size=batch_size, shuffle=True, num_workers=2, pin_memory=True)\n",
    "valloader = torch.utils.data.DataLoader(valset, batch_size=batch_size, shuffle=True, num_workers=2)\n",
    "testloader = torch.utils.data.DataLoader(testset_small, batch_size=batch_size, shuffle=False, num_workers=2)"
   ]
  },
  {
   "cell_type": "markdown",
   "metadata": {
    "id": "VwNgF3uqgLu_"
   },
   "source": [
    "Before starting the main task, let's visualize some of the images from the dataset."
   ]
  },
  {
   "cell_type": "code",
   "execution_count": 6,
   "metadata": {
    "colab": {
     "base_uri": "https://localhost:8080/",
     "height": 130
    },
    "id": "jKnbsT8adh9O",
    "outputId": "a0a10415-134c-4b26-f6bd-bc3c926f4236"
   },
   "outputs": [
    {
     "name": "stderr",
     "output_type": "stream",
     "text": [
      "Clipping input data to the valid range for imshow with RGB data ([0..1] for floats or [0..255] for integers).\n"
     ]
    },
    {
     "data": {
      "image/png": "[encoded data removed]",
      "text/plain": [
       "<Figure size 640x480 with 1 Axes>"
      ]
     },
     "metadata": {},
     "output_type": "display_data"
    },
    {
     "name": "stdout",
     "output_type": "stream",
     "text": [
      "     2    2    3    1    4    0    7    8   \n"
     ]
    }
   ],
   "source": [
    "# Extract class names\n",
    "classes = torchvision.datasets.MNIST.classes\n",
    "# Class names are like 0 - zero\n",
    "classes_num = [c.split('-')[0] for c in classes]\n",
    "\n",
    "# functions to show an image\n",
    "def imshow(img):\n",
    "    # What should I do here to unnormalize? \n",
    "    npimg = img.numpy()\n",
    "    plt.imshow(np.transpose(npimg, (1, 2, 0)))\n",
    "    plt.show()\n",
    "\n",
    "\n",
    "# get some random training images\n",
    "dataiter = iter(trainloader)\n",
    "images, labels = dataiter.next()\n",
    "\n",
    "# show images\n",
    "imshow(torchvision.utils.make_grid(images))\n",
    "print('     '+' '.join(f'{classes_num[labels[j]]:4s}' for j in range(batch_size)))"
   ]
  },
  {
   "cell_type": "markdown",
   "metadata": {
    "id": "LuxtGTdggwxr"
   },
   "source": [
    "## Implementing Neural Networks\n",
    "\n",
    "### Euclidean Neural Network\n",
    "\n",
    "Let's start with defining a simple Euclidean neural network. Our simple neural network consists of three fully connected layers. To create the fully connected layers in Euclidean space, `nn.Linear` in used."
   ]
  },
  {
   "cell_type": "code",
   "execution_count": 15,
   "metadata": {
    "id": "VpibIkf7g0jP"
   },
   "outputs": [],
   "source": [
    "class EuclideanNet(nn.Module):\n",
    "    def __init__(self):\n",
    "        super().__init__()\n",
    "        self.fc1 = nn.Linear(28 * 28, 750)\n",
    "        self.relu1 = nn.ReLU()\n",
    "        self.fc11 = nn.Linear(750, 20)\n",
    "        self.relu11 = nn.ReLU()\n",
    "        self.fc2 = nn.Linear(20, 10)\n",
    "\n",
    "    def forward(self, x):\n",
    "        out_x = self.fc1(x)\n",
    "        out_x = self.relu1(out_x)\n",
    "        out_x = self.fc11(out_x)\n",
    "        out_x = self.relu11(out_x)\n",
    "        out_x = self.fc2(out_x)\n",
    "        return out_x\n",
    "\n",
    "euclidean_net = EuclideanNet().to(device)"
   ]
  },
  {
   "cell_type": "markdown",
   "metadata": {
    "id": "MWoZ_HJlzhAh"
   },
   "source": [
    "### Hyperbolic Neural Network\n",
    "\n",
    "Next step is to create a neural network in hyperbolic space. This network consists of three fully connected layer, similar to the netowrk defined in the Euclidean space. To define a fully connected layer in the hyperbolic space, `MobiusLinear` is used."
   ]
  },
  {
   "cell_type": "code",
   "execution_count": 16,
   "metadata": {
    "id": "2mgCnV3buXNb"
   },
   "outputs": [],
   "source": [
    "def hyperbolic_ReLU(hyperbolic_input, manifold):\n",
    "    euclidean_input = manifold.logmap0(hyperbolic_input)\n",
    "    euclidean_output = F.relu(euclidean_input)\n",
    "    hyperbolic_output = manifold.expmap0(euclidean_output)\n",
    "    return hyperbolic_output"
   ]
  },
  {
   "cell_type": "code",
   "execution_count": 17,
   "metadata": {
    "id": "JcZZwhLgdZ4t"
   },
   "outputs": [],
   "source": [
    "class HyperbolicNet(nn.Module):\n",
    "    def __init__(self):\n",
    "        super().__init__()\n",
    "        self.fc1 = MobiusLinear(28 * 28, 750)\n",
    "        self.fc11 = MobiusLinear(750, 20)\n",
    "        self.fc2 = MobiusLinear(20, 10)\n",
    "\n",
    "    def forward(self, x, manifold):\n",
    "        out_x = self.fc1(x)\n",
    "        out_x = hyperbolic_ReLU(out_x, manifold)\n",
    "        out_x = self.fc11(out_x)\n",
    "        out_x = hyperbolic_ReLU(out_x, manifold)\n",
    "        out_x = self.fc2(out_x)\n",
    "        return out_x\n",
    "\n",
    "hyperbolic_net = HyperbolicNet().to(device)"
   ]
  },
  {
   "cell_type": "markdown",
   "metadata": {
    "id": "Yg1n29ZG0Opo"
   },
   "source": [
    "Here you can see the overview of both Euclidean and hyperbolic Neural Networks. The main structure of the networks are similar, one consisting of *Euclidean* Linear layers and the other one of *hyperbolic* layers. \n",
    "\n",
    "As the Hyperbolic Net consists of hyperbolic layers, the input must be in hyperbolic space, too. Therefore, `Exp map` which stands for `Exponential Map` is used to project the input of the Neural Network (flatten image) from Euclidean space to the hyperbolic space. `Exp map` will be performed later in the training and testing loop."
   ]
  },
  {
   "cell_type": "markdown",
   "metadata": {},
   "source": [
    "<center width=\"90%\"><img src=\"figures/1_net.png\"></center>"
   ]
  },
  {
   "cell_type": "markdown",
   "metadata": {
    "id": "svfLDiPdhyeF"
   },
   "source": [
    "### Optimizer and Loss function\n",
    "\n",
    "Next step is to define the optimizer and loss function. For training a neural network with hyperbolic layers, the optimizer should be in hyperbolic space, too. Here we use `SGD` and `Riemannian SGD` as the optimizers."
   ]
  },
  {
   "cell_type": "code",
   "execution_count": 18,
   "metadata": {
    "id": "X-lucVWXh3bA"
   },
   "outputs": [],
   "source": [
    "criterion = nn.CrossEntropyLoss()\n",
    "euclidean_optimizer = optim.SGD(euclidean_net.parameters(), lr=0.001, momentum=0.9)\n",
    "hyperbolic_optimizer = geoopt.optim.RiemannianSGD(list(hyperbolic_net.parameters()), lr=0.001, momentum=0.9)"
   ]
  },
  {
   "cell_type": "markdown",
   "metadata": {
    "id": "-LGZoVGyh4K8"
   },
   "source": [
    "Finally, it's time to implement the training loop."
   ]
  },
  {
   "cell_type": "markdown",
   "metadata": {
    "id": "3S-tKiAgT3Vy"
   },
   "source": [
    "### Euclidean training loop\n",
    "\n",
    "First, we start with training the Euclidean neural network."
   ]
  },
  {
   "cell_type": "code",
   "execution_count": 19,
   "metadata": {
    "colab": {
     "base_uri": "https://localhost:8080/"
    },
    "id": "hb4EkcIqiLob",
    "outputId": "f95681d8-a3bd-445e-e848-b4585ef933ec",
    "scrolled": false
   },
   "outputs": [
    {
     "name": "stdout",
     "output_type": "stream",
     "text": [
      "[1,  1250] loss: 0.732\n",
      "Accuracy of the network on the 10000 val images: 89 %\n",
      "[101,  1250] loss: 0.000\n",
      "Accuracy of the network on the 10000 val images: 96 %\n",
      "[201,  1250] loss: 0.000\n",
      "Accuracy of the network on the 10000 val images: 96 %\n",
      "[301,  1250] loss: 0.000\n",
      "Accuracy of the network on the 10000 val images: 96 %\n",
      "[401,  1250] loss: 0.000\n",
      "Accuracy of the network on the 10000 val images: 96 %\n",
      "[501,  1250] loss: 0.000\n",
      "Accuracy of the network on the 10000 val images: 96 %\n",
      "[601,  1250] loss: 0.000\n",
      "Accuracy of the network on the 10000 val images: 96 %\n",
      "[701,  1250] loss: 0.000\n",
      "Accuracy of the network on the 10000 val images: 96 %\n",
      "[801,  1250] loss: 0.000\n",
      "Accuracy of the network on the 10000 val images: 96 %\n",
      "[901,  1250] loss: 0.000\n",
      "Accuracy of the network on the 10000 val images: 96 %\n",
      "Finished Training\n"
     ]
    }
   ],
   "source": [
    "for epoch in range(1000):  # loop over the dataset multiple times\n",
    "\n",
    "    running_loss = 0.0\n",
    "    for i, data in enumerate(trainloader, 0):\n",
    "        # get the inputs; data is a list of [inputs, labels]\n",
    "        inputs, labels = data\n",
    "        inputs = inputs.to(device)\n",
    "        labels = labels.to(device)\n",
    "\n",
    "        # zero the parameter gradients\n",
    "        euclidean_optimizer.zero_grad()\n",
    "\n",
    "        # forward + backward + optimize\n",
    "        flatten_inputs = torch.flatten(inputs, start_dim=1)\n",
    "        outputs = euclidean_net(flatten_inputs)\n",
    "        loss = criterion(outputs, labels)\n",
    "        loss.backward()\n",
    "        euclidean_optimizer.step()\n",
    "\n",
    "        # print statistics\n",
    "        running_loss += loss.item()\n",
    "        if (epoch % 100) == 0:\n",
    "            if (i % len(trainloader)) == (len(trainloader) - 1):   \n",
    "                print(f'[{epoch + 1}, {i + 1:5d}] loss: {running_loss / len(trainloader):.3f}')\n",
    "                running_loss = 0.0\n",
    "                # ================================================================================\n",
    "                correct = 0\n",
    "                total = 0\n",
    "                with torch.no_grad():\n",
    "                    for data in valloader:\n",
    "                        val_images, val_labels = data\n",
    "                        val_images = val_images.to(device)\n",
    "                        val_labels = val_labels.to(device)\n",
    "                        # calculate outputs by running images through the network\n",
    "                        flatten_val_images = torch.flatten(val_images, start_dim=1)\n",
    "                        val_outputs = euclidean_net(flatten_val_images)\n",
    "                        # the class with the highest energy is what we choose as prediction\n",
    "                        _, val_predicted = torch.max(val_outputs.data, 1)\n",
    "                        total += val_labels.size(0)\n",
    "                        correct += (val_predicted == val_labels).sum().item()\n",
    "                print(f'Accuracy of the network on the 10000 val images: {100 * correct // total} %')\n",
    "                # ================================================================================\n",
    "print('Finished Training')"
   ]
  },
  {
   "cell_type": "markdown",
   "metadata": {
    "id": "48PBvQOYURzF"
   },
   "source": [
    "### Hyperbolic training loop"
   ]
  },
  {
   "cell_type": "markdown",
   "metadata": {
    "id": "WzNCI5QyUXAR"
   },
   "source": [
    "Next step is to train the hyperbolic neural network. \n",
    "\n",
    "In addition to the optimizers, there is one more difference between Euclidean and hyperbolic training loops; `Exponential Map`. As the hyperbolic Net expects hyperbolic input, data is projected to the hyperbolic space using `manifold.expmap0(flat_inputs)`.\n"
   ]
  },
  {
   "cell_type": "code",
   "execution_count": 20,
   "metadata": {
    "id": "Nck7RTVCUbPJ",
    "scrolled": false
   },
   "outputs": [
    {
     "name": "stdout",
     "output_type": "stream",
     "text": [
      "[1,  1250] loss: 1.975\n",
      "Accuracy of the network on the 10000 val images: 82 %\n",
      "[101,  1250] loss: 1.430\n",
      "Accuracy of the network on the 10000 val images: 95 %\n",
      "[201,  1250] loss: 1.427\n",
      "Accuracy of the network on the 10000 val images: 95 %\n",
      "[301,  1250] loss: 1.426\n",
      "Accuracy of the network on the 10000 val images: 95 %\n",
      "[401,  1250] loss: 1.425\n",
      "Accuracy of the network on the 10000 val images: 95 %\n",
      "[501,  1250] loss: 1.425\n",
      "Accuracy of the network on the 10000 val images: 95 %\n",
      "[601,  1250] loss: 1.424\n",
      "Accuracy of the network on the 10000 val images: 95 %\n",
      "[701,  1250] loss: 1.424\n",
      "Accuracy of the network on the 10000 val images: 95 %\n",
      "[801,  1250] loss: 1.424\n",
      "Accuracy of the network on the 10000 val images: 95 %\n",
      "[901,  1250] loss: 1.424\n",
      "Accuracy of the network on the 10000 val images: 95 %\n",
      "Finished Training\n"
     ]
    }
   ],
   "source": [
    "manifold = geoopt.PoincareBall()\n",
    "\n",
    "for epoch in range(1000):  # loop over the dataset multiple times\n",
    "\n",
    "    running_loss = 0.0\n",
    "    for i, data in enumerate(trainloader, 0):\n",
    "        # get the inputs; data is a list of [inputs, labels]\n",
    "        inputs, labels = data\n",
    "        inputs = inputs.to(device)\n",
    "        labels = labels.to(device)\n",
    "\n",
    "        # zero the parameter gradients\n",
    "        hyperbolic_optimizer.zero_grad()\n",
    "\n",
    "        # forward + backward + optimize\n",
    "        # ------------------------------\n",
    "        # Hyperbolic inputs\n",
    "        flat_inputs = torch.flatten(inputs, start_dim=1)\n",
    "        hyp_inputs = manifold.expmap0(flat_inputs)\n",
    "        # ------------------------------\n",
    "        outputs = hyperbolic_net(hyp_inputs, manifold)\n",
    "        loss = criterion(outputs, labels)\n",
    "        loss.backward()\n",
    "        hyperbolic_optimizer.step()\n",
    "        \n",
    "        # print statistics\n",
    "        running_loss += loss.item()\n",
    "        if (epoch % 100) == 0:\n",
    "            # print statistics\n",
    "            if (i % len(trainloader)) == (len(trainloader) - 1):   \n",
    "                print(f'[{epoch + 1}, {i + 1:5d}] loss: {running_loss / len(trainloader):.3f}')\n",
    "                running_loss = 0.0\n",
    "                # ================================================================================\n",
    "                correct = 0\n",
    "                total = 0\n",
    "                with torch.no_grad():\n",
    "                    for data in valloader:\n",
    "                        val_images, val_labels = data\n",
    "\n",
    "                        val_images = val_images.to(device)\n",
    "                        val_labels = val_labels.to(device)\n",
    "\n",
    "                        # calculate outputs by running images through the network\n",
    "                        flatten_val_images = torch.flatten(val_images, start_dim=1)\n",
    "                        hyp_flatten_val_images = manifold.expmap0(flatten_val_images)\n",
    "                        val_outputs = hyperbolic_net(hyp_flatten_val_images, manifold)\n",
    "                        # the class with the highest energy is what we choose as prediction\n",
    "                        _, val_predicted = torch.max(val_outputs.data, 1)\n",
    "                        total += val_labels.size(0)\n",
    "                        correct += (val_predicted == val_labels).sum().item()\n",
    "                print(f'Accuracy of the network on the 10000 val images: {100 * correct // total} %')\n",
    "                # ================================================================================\n",
    "print('Finished Training')"
   ]
  },
  {
   "cell_type": "markdown",
   "metadata": {
    "id": "w9OXEPi9iY9_"
   },
   "source": [
    "### Testing function\n",
    "Once the training loop is complete, it's time to see how the trained Euclidean and hyperbolic models work given the testing split.\n",
    "\n",
    "First, we visualize a batch of test images and the predicted labels given the batch."
   ]
  },
  {
   "cell_type": "code",
   "execution_count": 21,
   "metadata": {
    "id": "6Kx06ie0imNZ"
   },
   "outputs": [
    {
     "name": "stderr",
     "output_type": "stream",
     "text": [
      "Clipping input data to the valid range for imshow with RGB data ([0..1] for floats or [0..255] for integers).\n"
     ]
    },
    {
     "data": {
      "image/png": "[encoded data removed]",
      "text/plain": [
       "<Figure size 640x480 with 1 Axes>"
      ]
     },
     "metadata": {},
     "output_type": "display_data"
    },
    {
     "name": "stdout",
     "output_type": "stream",
     "text": [
      "GroundTruth: 7   2   1   0   4   1   4   9  \n",
      "Euclidean:   7   2   1   0   4   1   4   9  \n",
      "Hyperbolic:  7   2   1   0   4   1   4   9  \n"
     ]
    }
   ],
   "source": [
    "dataiter = iter(testloader)\n",
    "images, labels = dataiter.next()\n",
    "\n",
    "flatten_images = torch.flatten(images, start_dim=1).to(device)\n",
    "# ======================================\n",
    "outputs = euclidean_net(flatten_images)\n",
    "_, euclidean_predicted = torch.max(outputs, 1)\n",
    "# ======================================\n",
    "hyp_inputs = manifold.expmap0(flatten_images)\n",
    "outputs = hyperbolic_net(hyp_inputs, manifold)\n",
    "_, hyperbolic_predicted = torch.max(outputs, 1)\n",
    "\n",
    "# print images\n",
    "imshow(torchvision.utils.make_grid(images))\n",
    "print('GroundTruth:', ' '.join(f'{classes_num[labels[j]]:3s}' for j in range(8)))\n",
    "print('Euclidean:  ', ' '.join(f'{classes_num[euclidean_predicted[j]]:3s}' for j in range(8)))\n",
    "print('Hyperbolic: ', ' '.join(f'{classes_num[hyperbolic_predicted[j]]:3s}' for j in range(8)))"
   ]
  },
  {
   "cell_type": "code",
   "execution_count": 30,
   "metadata": {},
   "outputs": [
    {
     "name": "stdout",
     "output_type": "stream",
     "text": [
      "Accuracy of the Euclidean network on the 10000 test images: 97 %\n",
      "Accuracy of the Hyperbolic network on the 10000 test images: 97 %\n"
     ]
    }
   ],
   "source": [
    "# Test dataset - downloading and loading the testing dataset.\n",
    "testset = torchvision.datasets.MNIST(root=DATA_PATH, train=False, download=True, transform=transform)\n",
    "testset_small, _ = torch.utils.data.random_split(main_trainset, [30000, 30000], generator=torch.Generator().manual_seed(42))\n",
    "\n",
    "# Create dataloaders for the train, val and test sets\n",
    "batch_size = 8\n",
    "testloader = torch.utils.data.DataLoader(testset_small, batch_size=batch_size, shuffle=False, num_workers=2)\n",
    "# testloader = torch.utils.data.DataLoader(testset, batch_size=batch_size, shuffle=False, num_workers=2)\n",
    "\n",
    "euclidean_correct = 0\n",
    "hyperbolic_correct = 0\n",
    "total = 0\n",
    "# since we're not training, we don't need to calculate the gradients for our outputs\n",
    "with torch.no_grad():\n",
    "    for data in testloader:\n",
    "        images, labels = data\n",
    "        images = images.to(device)\n",
    "        labels = labels.to(device)\n",
    "        # calculate outputs by running images through the network\n",
    "        flatten_images = torch.flatten(images, start_dim=1)\n",
    "\n",
    "        euclidean_outputs = euclidean_net(flatten_images)\n",
    "        # ======================================\n",
    "        hyp_inputs = manifold.expmap0(flatten_images)\n",
    "        hyperbolic_outputs = hyperbolic_net(hyp_inputs, manifold)\n",
    "\n",
    "        # the class with the highest energy is what we choose as prediction\n",
    "        _, euclidean_predicted = torch.max(euclidean_outputs.data, 1)\n",
    "        _, hyperbolic_predicted = torch.max(hyperbolic_outputs.data, 1)\n",
    "        total += labels.size(0)\n",
    "\n",
    "        euclidean_correct += (euclidean_predicted == labels).sum().item()\n",
    "        hyperbolic_correct += (hyperbolic_predicted == labels).sum().item()\n",
    "\n",
    "print(f'Accuracy of the Euclidean network on the 10000 test images: {100 * euclidean_correct // total} %')\n",
    "print(f'Accuracy of the Hyperbolic network on the 10000 test images: {100 * hyperbolic_correct // total} %')"
   ]
  }
 ],
 "metadata": {
  "accelerator": "GPU",
  "colab": {
   "collapsed_sections": [],
   "provenance": []
  },
  "gpuClass": "standard",
  "kernelspec": {
   "display_name": "Python 3",
   "language": "python",
   "name": "python3"
  },
  "language_info": {
   "codemirror_mode": {
    "name": "ipython",
    "version": 3
   },
   "file_extension": ".py",
   "mimetype": "text/x-python",
   "name": "python",
   "nbconvert_exporter": "python",
   "pygments_lexer": "ipython3",
   "version": "3.7.13"
  },
  "widgets": {
   "application/vnd.jupyter.widget-state+json": {
    "002bd74778cb4b8da294b4d5f4923e5a": {
     "model_module": "@jupyter-widgets/controls",
     "model_module_version": "1.5.0",
     "model_name": "DescriptionStyleModel",
     "state": {
      "_model_module": "@jupyter-widgets/controls",
      "_model_module_version": "1.5.0",
      "_model_name": "DescriptionStyleModel",
      "_view_count": null,
      "_view_module": "@jupyter-widgets/base",
      "_view_module_version": "1.2.0",
      "_view_name": "StyleView",
      "description_width": ""
     }
    },
    "052d04deed0b4a0eb3fc953ab255e5e4": {
     "model_module": "@jupyter-widgets/controls",
     "model_module_version": "1.5.0",
     "model_name": "DescriptionStyleModel",
     "state": {
      "_model_module": "@jupyter-widgets/controls",
      "_model_module_version": "1.5.0",
      "_model_name": "DescriptionStyleModel",
      "_view_count": null,
      "_view_module": "@jupyter-widgets/base",
      "_view_module_version": "1.2.0",
      "_view_name": "StyleView",
      "description_width": ""
     }
    },
    "082b385bad4d4e7281a07f77f0cc9cd4": {
     "model_module": "@jupyter-widgets/base",
     "model_module_version": "1.2.0",
     "model_name": "LayoutModel",
     "state": {
      "_model_module": "@jupyter-widgets/base",
      "_model_module_version": "1.2.0",
      "_model_name": "LayoutModel",
      "_view_count": null,
      "_view_module": "@jupyter-widgets/base",
      "_view_module_version": "1.2.0",
      "_view_name": "LayoutView",
      "align_content": null,
      "align_items": null,
      "align_self": null,
      "border": null,
      "bottom": null,
      "display": null,
      "flex": null,
      "flex_flow": null,
      "grid_area": null,
      "grid_auto_columns": null,
      "grid_auto_flow": null,
      "grid_auto_rows": null,
      "grid_column": null,
      "grid_gap": null,
      "grid_row": null,
      "grid_template_areas": null,
      "grid_template_columns": null,
      "grid_template_rows": null,
      "height": null,
      "justify_content": null,
      "justify_items": null,
      "left": null,
      "margin": null,
      "max_height": null,
      "max_width": null,
      "min_height": null,
      "min_width": null,
      "object_fit": null,
      "object_position": null,
      "order": null,
      "overflow": null,
      "overflow_x": null,
      "overflow_y": null,
      "padding": null,
      "right": null,
      "top": null,
      "visibility": null,
      "width": null
     }
    },
    "08cc32263dfa421fa7040d3ba8d22bd8": {
     "model_module": "@jupyter-widgets/controls",
     "model_module_version": "1.5.0",
     "model_name": "DescriptionStyleModel",
     "state": {
      "_model_module": "@jupyter-widgets/controls",
      "_model_module_version": "1.5.0",
      "_model_name": "DescriptionStyleModel",
      "_view_count": null,
      "_view_module": "@jupyter-widgets/base",
      "_view_module_version": "1.2.0",
      "_view_name": "StyleView",
      "description_width": ""
     }
    },
    "10ba0efce9e5430c902cdcf56bab09e4": {
     "model_module": "@jupyter-widgets/controls",
     "model_module_version": "1.5.0",
     "model_name": "HTMLModel",
     "state": {
      "_dom_classes": [],
      "_model_module": "@jupyter-widgets/controls",
      "_model_module_version": "1.5.0",
      "_model_name": "HTMLModel",
      "_view_count": null,
      "_view_module": "@jupyter-widgets/controls",
      "_view_module_version": "1.5.0",
      "_view_name": "HTMLView",
      "description": "",
      "description_tooltip": null,
      "layout": "IPY_MODEL_5331b18b991f46f1815942d08c267b44",
      "placeholder": "​",
      "style": "IPY_MODEL_08cc32263dfa421fa7040d3ba8d22bd8",
      "value": " 1648877/1648877 [00:00&lt;00:00, 10480297.85it/s]"
     }
    },
    "16979721c7444c52a282b318160c9586": {
     "model_module": "@jupyter-widgets/base",
     "model_module_version": "1.2.0",
     "model_name": "LayoutModel",
     "state": {
      "_model_module": "@jupyter-widgets/base",
      "_model_module_version": "1.2.0",
      "_model_name": "LayoutModel",
      "_view_count": null,
      "_view_module": "@jupyter-widgets/base",
      "_view_module_version": "1.2.0",
      "_view_name": "LayoutView",
      "align_content": null,
      "align_items": null,
      "align_self": null,
      "border": null,
      "bottom": null,
      "display": null,
      "flex": null,
      "flex_flow": null,
      "grid_area": null,
      "grid_auto_columns": null,
      "grid_auto_flow": null,
      "grid_auto_rows": null,
      "grid_column": null,
      "grid_gap": null,
      "grid_row": null,
      "grid_template_areas": null,
      "grid_template_columns": null,
      "grid_template_rows": null,
      "height": null,
      "justify_content": null,
      "justify_items": null,
      "left": null,
      "margin": null,
      "max_height": null,
      "max_width": null,
      "min_height": null,
      "min_width": null,
      "object_fit": null,
      "object_position": null,
      "order": null,
      "overflow": null,
      "overflow_x": null,
      "overflow_y": null,
      "padding": null,
      "right": null,
      "top": null,
      "visibility": null,
      "width": null
     }
    },
    "1e655534822245e8adb36db4cb115d13": {
     "model_module": "@jupyter-widgets/controls",
     "model_module_version": "1.5.0",
     "model_name": "FloatProgressModel",
     "state": {
      "_dom_classes": [],
      "_model_module": "@jupyter-widgets/controls",
      "_model_module_version": "1.5.0",
      "_model_name": "FloatProgressModel",
      "_view_count": null,
      "_view_module": "@jupyter-widgets/controls",
      "_view_module_version": "1.5.0",
      "_view_name": "ProgressView",
      "bar_style": "success",
      "description": "",
      "description_tooltip": null,
      "layout": "IPY_MODEL_d02055dd894c442280f796d130869884",
      "max": 1648877,
      "min": 0,
      "orientation": "horizontal",
      "style": "IPY_MODEL_de94640096be496399872f2e94bec4ad",
      "value": 1648877
     }
    },
    "2153a2fbcd98499cafadc5b413cc25f7": {
     "model_module": "@jupyter-widgets/controls",
     "model_module_version": "1.5.0",
     "model_name": "DescriptionStyleModel",
     "state": {
      "_model_module": "@jupyter-widgets/controls",
      "_model_module_version": "1.5.0",
      "_model_name": "DescriptionStyleModel",
      "_view_count": null,
      "_view_module": "@jupyter-widgets/base",
      "_view_module_version": "1.2.0",
      "_view_name": "StyleView",
      "description_width": ""
     }
    },
    "2192a5dd584a487a903a60b7837f9d65": {
     "model_module": "@jupyter-widgets/controls",
     "model_module_version": "1.5.0",
     "model_name": "ProgressStyleModel",
     "state": {
      "_model_module": "@jupyter-widgets/controls",
      "_model_module_version": "1.5.0",
      "_model_name": "ProgressStyleModel",
      "_view_count": null,
      "_view_module": "@jupyter-widgets/base",
      "_view_module_version": "1.2.0",
      "_view_name": "StyleView",
      "bar_color": null,
      "description_width": ""
     }
    },
    "51fae820bd914df5b65bbb2678cc05f8": {
     "model_module": "@jupyter-widgets/base",
     "model_module_version": "1.2.0",
     "model_name": "LayoutModel",
     "state": {
      "_model_module": "@jupyter-widgets/base",
      "_model_module_version": "1.2.0",
      "_model_name": "LayoutModel",
      "_view_count": null,
      "_view_module": "@jupyter-widgets/base",
      "_view_module_version": "1.2.0",
      "_view_name": "LayoutView",
      "align_content": null,
      "align_items": null,
      "align_self": null,
      "border": null,
      "bottom": null,
      "display": null,
      "flex": null,
      "flex_flow": null,
      "grid_area": null,
      "grid_auto_columns": null,
      "grid_auto_flow": null,
      "grid_auto_rows": null,
      "grid_column": null,
      "grid_gap": null,
      "grid_row": null,
      "grid_template_areas": null,
      "grid_template_columns": null,
      "grid_template_rows": null,
      "height": null,
      "justify_content": null,
      "justify_items": null,
      "left": null,
      "margin": null,
      "max_height": null,
      "max_width": null,
      "min_height": null,
      "min_width": null,
      "object_fit": null,
      "object_position": null,
      "order": null,
      "overflow": null,
      "overflow_x": null,
      "overflow_y": null,
      "padding": null,
      "right": null,
      "top": null,
      "visibility": null,
      "width": null
     }
    },
    "5331b18b991f46f1815942d08c267b44": {
     "model_module": "@jupyter-widgets/base",
     "model_module_version": "1.2.0",
     "model_name": "LayoutModel",
     "state": {
      "_model_module": "@jupyter-widgets/base",
      "_model_module_version": "1.2.0",
      "_model_name": "LayoutModel",
      "_view_count": null,
      "_view_module": "@jupyter-widgets/base",
      "_view_module_version": "1.2.0",
      "_view_name": "LayoutView",
      "align_content": null,
      "align_items": null,
      "align_self": null,
      "border": null,
      "bottom": null,
      "display": null,
      "flex": null,
      "flex_flow": null,
      "grid_area": null,
      "grid_auto_columns": null,
      "grid_auto_flow": null,
      "grid_auto_rows": null,
      "grid_column": null,
      "grid_gap": null,
      "grid_row": null,
      "grid_template_areas": null,
      "grid_template_columns": null,
      "grid_template_rows": null,
      "height": null,
      "justify_content": null,
      "justify_items": null,
      "left": null,
      "margin": null,
      "max_height": null,
      "max_width": null,
      "min_height": null,
      "min_width": null,
      "object_fit": null,
      "object_position": null,
      "order": null,
      "overflow": null,
      "overflow_x": null,
      "overflow_y": null,
      "padding": null,
      "right": null,
      "top": null,
      "visibility": null,
      "width": null
     }
    },
    "550154eb777248e590bb8db09ff7a90c": {
     "model_module": "@jupyter-widgets/controls",
     "model_module_version": "1.5.0",
     "model_name": "HBoxModel",
     "state": {
      "_dom_classes": [],
      "_model_module": "@jupyter-widgets/controls",
      "_model_module_version": "1.5.0",
      "_model_name": "HBoxModel",
      "_view_count": null,
      "_view_module": "@jupyter-widgets/controls",
      "_view_module_version": "1.5.0",
      "_view_name": "HBoxView",
      "box_style": "",
      "children": [
       "IPY_MODEL_e490e5a6fbea4c87839b4bdfadc8c52e",
       "IPY_MODEL_e010dc5beaf6408f91b22cbac009a395",
       "IPY_MODEL_9d4dd00ba16b403cb233336aab50b80c"
      ],
      "layout": "IPY_MODEL_51fae820bd914df5b65bbb2678cc05f8"
     }
    },
    "5c247e41508f4bdb8b7c768bf093accb": {
     "model_module": "@jupyter-widgets/controls",
     "model_module_version": "1.5.0",
     "model_name": "HTMLModel",
     "state": {
      "_dom_classes": [],
      "_model_module": "@jupyter-widgets/controls",
      "_model_module_version": "1.5.0",
      "_model_name": "HTMLModel",
      "_view_count": null,
      "_view_module": "@jupyter-widgets/controls",
      "_view_module_version": "1.5.0",
      "_view_name": "HTMLView",
      "description": "",
      "description_tooltip": null,
      "layout": "IPY_MODEL_082b385bad4d4e7281a07f77f0cc9cd4",
      "placeholder": "​",
      "style": "IPY_MODEL_2153a2fbcd98499cafadc5b413cc25f7",
      "value": "100%"
     }
    },
    "62017fd3a3014c04ad6294d363771cf0": {
     "model_module": "@jupyter-widgets/base",
     "model_module_version": "1.2.0",
     "model_name": "LayoutModel",
     "state": {
      "_model_module": "@jupyter-widgets/base",
      "_model_module_version": "1.2.0",
      "_model_name": "LayoutModel",
      "_view_count": null,
      "_view_module": "@jupyter-widgets/base",
      "_view_module_version": "1.2.0",
      "_view_name": "LayoutView",
      "align_content": null,
      "align_items": null,
      "align_self": null,
      "border": null,
      "bottom": null,
      "display": null,
      "flex": null,
      "flex_flow": null,
      "grid_area": null,
      "grid_auto_columns": null,
      "grid_auto_flow": null,
      "grid_auto_rows": null,
      "grid_column": null,
      "grid_gap": null,
      "grid_row": null,
      "grid_template_areas": null,
      "grid_template_columns": null,
      "grid_template_rows": null,
      "height": null,
      "justify_content": null,
      "justify_items": null,
      "left": null,
      "margin": null,
      "max_height": null,
      "max_width": null,
      "min_height": null,
      "min_width": null,
      "object_fit": null,
      "object_position": null,
      "order": null,
      "overflow": null,
      "overflow_x": null,
      "overflow_y": null,
      "padding": null,
      "right": null,
      "top": null,
      "visibility": null,
      "width": null
     }
    },
    "62b3030b82724d72b2bccc65526778da": {
     "model_module": "@jupyter-widgets/controls",
     "model_module_version": "1.5.0",
     "model_name": "ProgressStyleModel",
     "state": {
      "_model_module": "@jupyter-widgets/controls",
      "_model_module_version": "1.5.0",
      "_model_name": "ProgressStyleModel",
      "_view_count": null,
      "_view_module": "@jupyter-widgets/base",
      "_view_module_version": "1.2.0",
      "_view_name": "StyleView",
      "bar_color": null,
      "description_width": ""
     }
    },
    "637a7991c79b49f9928259e386c31e7d": {
     "model_module": "@jupyter-widgets/controls",
     "model_module_version": "1.5.0",
     "model_name": "HTMLModel",
     "state": {
      "_dom_classes": [],
      "_model_module": "@jupyter-widgets/controls",
      "_model_module_version": "1.5.0",
      "_model_name": "HTMLModel",
      "_view_count": null,
      "_view_module": "@jupyter-widgets/controls",
      "_view_module_version": "1.5.0",
      "_view_name": "HTMLView",
      "description": "",
      "description_tooltip": null,
      "layout": "IPY_MODEL_97074fecae464f3f87e907c4f0cf1884",
      "placeholder": "​",
      "style": "IPY_MODEL_052d04deed0b4a0eb3fc953ab255e5e4",
      "value": " 9912422/9912422 [00:00&lt;00:00, 7849001.15it/s]"
     }
    },
    "6a98047e1ab944899984c2b1d18d78f4": {
     "model_module": "@jupyter-widgets/controls",
     "model_module_version": "1.5.0",
     "model_name": "HTMLModel",
     "state": {
      "_dom_classes": [],
      "_model_module": "@jupyter-widgets/controls",
      "_model_module_version": "1.5.0",
      "_model_name": "HTMLModel",
      "_view_count": null,
      "_view_module": "@jupyter-widgets/controls",
      "_view_module_version": "1.5.0",
      "_view_name": "HTMLView",
      "description": "",
      "description_tooltip": null,
      "layout": "IPY_MODEL_9e8e11e458054415a57572a6665fc8a8",
      "placeholder": "​",
      "style": "IPY_MODEL_8d284174e0d64be6a57e9ab5d78eda11",
      "value": " 28881/28881 [00:00&lt;00:00, 790527.52it/s]"
     }
    },
    "6f7b6a2d42a64e0aa3a285ccb9a7ab43": {
     "model_module": "@jupyter-widgets/controls",
     "model_module_version": "1.5.0",
     "model_name": "HBoxModel",
     "state": {
      "_dom_classes": [],
      "_model_module": "@jupyter-widgets/controls",
      "_model_module_version": "1.5.0",
      "_model_name": "HBoxModel",
      "_view_count": null,
      "_view_module": "@jupyter-widgets/controls",
      "_view_module_version": "1.5.0",
      "_view_name": "HBoxView",
      "box_style": "",
      "children": [
       "IPY_MODEL_9a862696188a46d1aa314af61d6574d6",
       "IPY_MODEL_b581f32916574ee6966434311422bf99",
       "IPY_MODEL_6a98047e1ab944899984c2b1d18d78f4"
      ],
      "layout": "IPY_MODEL_a596527976494de8b123c198ed6ad481"
     }
    },
    "801007438163403591daf4218a0825cc": {
     "model_module": "@jupyter-widgets/controls",
     "model_module_version": "1.5.0",
     "model_name": "HTMLModel",
     "state": {
      "_dom_classes": [],
      "_model_module": "@jupyter-widgets/controls",
      "_model_module_version": "1.5.0",
      "_model_name": "HTMLModel",
      "_view_count": null,
      "_view_module": "@jupyter-widgets/controls",
      "_view_module_version": "1.5.0",
      "_view_name": "HTMLView",
      "description": "",
      "description_tooltip": null,
      "layout": "IPY_MODEL_16979721c7444c52a282b318160c9586",
      "placeholder": "​",
      "style": "IPY_MODEL_002bd74778cb4b8da294b4d5f4923e5a",
      "value": "100%"
     }
    },
    "816d67b923bd4a53b427ee385943b4df": {
     "model_module": "@jupyter-widgets/base",
     "model_module_version": "1.2.0",
     "model_name": "LayoutModel",
     "state": {
      "_model_module": "@jupyter-widgets/base",
      "_model_module_version": "1.2.0",
      "_model_name": "LayoutModel",
      "_view_count": null,
      "_view_module": "@jupyter-widgets/base",
      "_view_module_version": "1.2.0",
      "_view_name": "LayoutView",
      "align_content": null,
      "align_items": null,
      "align_self": null,
      "border": null,
      "bottom": null,
      "display": null,
      "flex": null,
      "flex_flow": null,
      "grid_area": null,
      "grid_auto_columns": null,
      "grid_auto_flow": null,
      "grid_auto_rows": null,
      "grid_column": null,
      "grid_gap": null,
      "grid_row": null,
      "grid_template_areas": null,
      "grid_template_columns": null,
      "grid_template_rows": null,
      "height": null,
      "justify_content": null,
      "justify_items": null,
      "left": null,
      "margin": null,
      "max_height": null,
      "max_width": null,
      "min_height": null,
      "min_width": null,
      "object_fit": null,
      "object_position": null,
      "order": null,
      "overflow": null,
      "overflow_x": null,
      "overflow_y": null,
      "padding": null,
      "right": null,
      "top": null,
      "visibility": null,
      "width": null
     }
    },
    "89b8e5dd0da84f96965e649613e14c54": {
     "model_module": "@jupyter-widgets/controls",
     "model_module_version": "1.5.0",
     "model_name": "DescriptionStyleModel",
     "state": {
      "_model_module": "@jupyter-widgets/controls",
      "_model_module_version": "1.5.0",
      "_model_name": "DescriptionStyleModel",
      "_view_count": null,
      "_view_module": "@jupyter-widgets/base",
      "_view_module_version": "1.2.0",
      "_view_name": "StyleView",
      "description_width": ""
     }
    },
    "8d284174e0d64be6a57e9ab5d78eda11": {
     "model_module": "@jupyter-widgets/controls",
     "model_module_version": "1.5.0",
     "model_name": "DescriptionStyleModel",
     "state": {
      "_model_module": "@jupyter-widgets/controls",
      "_model_module_version": "1.5.0",
      "_model_name": "DescriptionStyleModel",
      "_view_count": null,
      "_view_module": "@jupyter-widgets/base",
      "_view_module_version": "1.2.0",
      "_view_name": "StyleView",
      "description_width": ""
     }
    },
    "97074fecae464f3f87e907c4f0cf1884": {
     "model_module": "@jupyter-widgets/base",
     "model_module_version": "1.2.0",
     "model_name": "LayoutModel",
     "state": {
      "_model_module": "@jupyter-widgets/base",
      "_model_module_version": "1.2.0",
      "_model_name": "LayoutModel",
      "_view_count": null,
      "_view_module": "@jupyter-widgets/base",
      "_view_module_version": "1.2.0",
      "_view_name": "LayoutView",
      "align_content": null,
      "align_items": null,
      "align_self": null,
      "border": null,
      "bottom": null,
      "display": null,
      "flex": null,
      "flex_flow": null,
      "grid_area": null,
      "grid_auto_columns": null,
      "grid_auto_flow": null,
      "grid_auto_rows": null,
      "grid_column": null,
      "grid_gap": null,
      "grid_row": null,
      "grid_template_areas": null,
      "grid_template_columns": null,
      "grid_template_rows": null,
      "height": null,
      "justify_content": null,
      "justify_items": null,
      "left": null,
      "margin": null,
      "max_height": null,
      "max_width": null,
      "min_height": null,
      "min_width": null,
      "object_fit": null,
      "object_position": null,
      "order": null,
      "overflow": null,
      "overflow_x": null,
      "overflow_y": null,
      "padding": null,
      "right": null,
      "top": null,
      "visibility": null,
      "width": null
     }
    },
    "995d015dcf3b452e85742c5eea660064": {
     "model_module": "@jupyter-widgets/controls",
     "model_module_version": "1.5.0",
     "model_name": "HBoxModel",
     "state": {
      "_dom_classes": [],
      "_model_module": "@jupyter-widgets/controls",
      "_model_module_version": "1.5.0",
      "_model_name": "HBoxModel",
      "_view_count": null,
      "_view_module": "@jupyter-widgets/controls",
      "_view_module_version": "1.5.0",
      "_view_name": "HBoxView",
      "box_style": "",
      "children": [
       "IPY_MODEL_801007438163403591daf4218a0825cc",
       "IPY_MODEL_c9124614852d46d9a111bec0ec03e509",
       "IPY_MODEL_637a7991c79b49f9928259e386c31e7d"
      ],
      "layout": "IPY_MODEL_62017fd3a3014c04ad6294d363771cf0"
     }
    },
    "9a862696188a46d1aa314af61d6574d6": {
     "model_module": "@jupyter-widgets/controls",
     "model_module_version": "1.5.0",
     "model_name": "HTMLModel",
     "state": {
      "_dom_classes": [],
      "_model_module": "@jupyter-widgets/controls",
      "_model_module_version": "1.5.0",
      "_model_name": "HTMLModel",
      "_view_count": null,
      "_view_module": "@jupyter-widgets/controls",
      "_view_module_version": "1.5.0",
      "_view_name": "HTMLView",
      "description": "",
      "description_tooltip": null,
      "layout": "IPY_MODEL_bd0f6652f5dd4f799cdc5c308bb21bf5",
      "placeholder": "​",
      "style": "IPY_MODEL_dd67739ea09641b396376108d1d0208b",
      "value": "100%"
     }
    },
    "9d4dd00ba16b403cb233336aab50b80c": {
     "model_module": "@jupyter-widgets/controls",
     "model_module_version": "1.5.0",
     "model_name": "HTMLModel",
     "state": {
      "_dom_classes": [],
      "_model_module": "@jupyter-widgets/controls",
      "_model_module_version": "1.5.0",
      "_model_name": "HTMLModel",
      "_view_count": null,
      "_view_module": "@jupyter-widgets/controls",
      "_view_module_version": "1.5.0",
      "_view_name": "HTMLView",
      "description": "",
      "description_tooltip": null,
      "layout": "IPY_MODEL_daecebdd1d6648da9a1fb55ab0c476de",
      "placeholder": "​",
      "style": "IPY_MODEL_ed605bbbb43b4fdf9bbf8daa08093341",
      "value": " 4542/4542 [00:00&lt;00:00, 85703.17it/s]"
     }
    },
    "9e8e11e458054415a57572a6665fc8a8": {
     "model_module": "@jupyter-widgets/base",
     "model_module_version": "1.2.0",
     "model_name": "LayoutModel",
     "state": {
      "_model_module": "@jupyter-widgets/base",
      "_model_module_version": "1.2.0",
      "_model_name": "LayoutModel",
      "_view_count": null,
      "_view_module": "@jupyter-widgets/base",
      "_view_module_version": "1.2.0",
      "_view_name": "LayoutView",
      "align_content": null,
      "align_items": null,
      "align_self": null,
      "border": null,
      "bottom": null,
      "display": null,
      "flex": null,
      "flex_flow": null,
      "grid_area": null,
      "grid_auto_columns": null,
      "grid_auto_flow": null,
      "grid_auto_rows": null,
      "grid_column": null,
      "grid_gap": null,
      "grid_row": null,
      "grid_template_areas": null,
      "grid_template_columns": null,
      "grid_template_rows": null,
      "height": null,
      "justify_content": null,
      "justify_items": null,
      "left": null,
      "margin": null,
      "max_height": null,
      "max_width": null,
      "min_height": null,
      "min_width": null,
      "object_fit": null,
      "object_position": null,
      "order": null,
      "overflow": null,
      "overflow_x": null,
      "overflow_y": null,
      "padding": null,
      "right": null,
      "top": null,
      "visibility": null,
      "width": null
     }
    },
    "a596527976494de8b123c198ed6ad481": {
     "model_module": "@jupyter-widgets/base",
     "model_module_version": "1.2.0",
     "model_name": "LayoutModel",
     "state": {
      "_model_module": "@jupyter-widgets/base",
      "_model_module_version": "1.2.0",
      "_model_name": "LayoutModel",
      "_view_count": null,
      "_view_module": "@jupyter-widgets/base",
      "_view_module_version": "1.2.0",
      "_view_name": "LayoutView",
      "align_content": null,
      "align_items": null,
      "align_self": null,
      "border": null,
      "bottom": null,
      "display": null,
      "flex": null,
      "flex_flow": null,
      "grid_area": null,
      "grid_auto_columns": null,
      "grid_auto_flow": null,
      "grid_auto_rows": null,
      "grid_column": null,
      "grid_gap": null,
      "grid_row": null,
      "grid_template_areas": null,
      "grid_template_columns": null,
      "grid_template_rows": null,
      "height": null,
      "justify_content": null,
      "justify_items": null,
      "left": null,
      "margin": null,
      "max_height": null,
      "max_width": null,
      "min_height": null,
      "min_width": null,
      "object_fit": null,
      "object_position": null,
      "order": null,
      "overflow": null,
      "overflow_x": null,
      "overflow_y": null,
      "padding": null,
      "right": null,
      "top": null,
      "visibility": null,
      "width": null
     }
    },
    "b581f32916574ee6966434311422bf99": {
     "model_module": "@jupyter-widgets/controls",
     "model_module_version": "1.5.0",
     "model_name": "FloatProgressModel",
     "state": {
      "_dom_classes": [],
      "_model_module": "@jupyter-widgets/controls",
      "_model_module_version": "1.5.0",
      "_model_name": "FloatProgressModel",
      "_view_count": null,
      "_view_module": "@jupyter-widgets/controls",
      "_view_module_version": "1.5.0",
      "_view_name": "ProgressView",
      "bar_style": "success",
      "description": "",
      "description_tooltip": null,
      "layout": "IPY_MODEL_cf7ba4a0d470417e9f8254d3d6840ea5",
      "max": 28881,
      "min": 0,
      "orientation": "horizontal",
      "style": "IPY_MODEL_2192a5dd584a487a903a60b7837f9d65",
      "value": 28881
     }
    },
    "bd0f6652f5dd4f799cdc5c308bb21bf5": {
     "model_module": "@jupyter-widgets/base",
     "model_module_version": "1.2.0",
     "model_name": "LayoutModel",
     "state": {
      "_model_module": "@jupyter-widgets/base",
      "_model_module_version": "1.2.0",
      "_model_name": "LayoutModel",
      "_view_count": null,
      "_view_module": "@jupyter-widgets/base",
      "_view_module_version": "1.2.0",
      "_view_name": "LayoutView",
      "align_content": null,
      "align_items": null,
      "align_self": null,
      "border": null,
      "bottom": null,
      "display": null,
      "flex": null,
      "flex_flow": null,
      "grid_area": null,
      "grid_auto_columns": null,
      "grid_auto_flow": null,
      "grid_auto_rows": null,
      "grid_column": null,
      "grid_gap": null,
      "grid_row": null,
      "grid_template_areas": null,
      "grid_template_columns": null,
      "grid_template_rows": null,
      "height": null,
      "justify_content": null,
      "justify_items": null,
      "left": null,
      "margin": null,
      "max_height": null,
      "max_width": null,
      "min_height": null,
      "min_width": null,
      "object_fit": null,
      "object_position": null,
      "order": null,
      "overflow": null,
      "overflow_x": null,
      "overflow_y": null,
      "padding": null,
      "right": null,
      "top": null,
      "visibility": null,
      "width": null
     }
    },
    "c9124614852d46d9a111bec0ec03e509": {
     "model_module": "@jupyter-widgets/controls",
     "model_module_version": "1.5.0",
     "model_name": "FloatProgressModel",
     "state": {
      "_dom_classes": [],
      "_model_module": "@jupyter-widgets/controls",
      "_model_module_version": "1.5.0",
      "_model_name": "FloatProgressModel",
      "_view_count": null,
      "_view_module": "@jupyter-widgets/controls",
      "_view_module_version": "1.5.0",
      "_view_name": "ProgressView",
      "bar_style": "success",
      "description": "",
      "description_tooltip": null,
      "layout": "IPY_MODEL_d79cd089fe6540b091b55c677b62967e",
      "max": 9912422,
      "min": 0,
      "orientation": "horizontal",
      "style": "IPY_MODEL_d1051e8fde8f4adf8718b27ddbf7c62a",
      "value": 9912422
     }
    },
    "cf7ba4a0d470417e9f8254d3d6840ea5": {
     "model_module": "@jupyter-widgets/base",
     "model_module_version": "1.2.0",
     "model_name": "LayoutModel",
     "state": {
      "_model_module": "@jupyter-widgets/base",
      "_model_module_version": "1.2.0",
      "_model_name": "LayoutModel",
      "_view_count": null,
      "_view_module": "@jupyter-widgets/base",
      "_view_module_version": "1.2.0",
      "_view_name": "LayoutView",
      "align_content": null,
      "align_items": null,
      "align_self": null,
      "border": null,
      "bottom": null,
      "display": null,
      "flex": null,
      "flex_flow": null,
      "grid_area": null,
      "grid_auto_columns": null,
      "grid_auto_flow": null,
      "grid_auto_rows": null,
      "grid_column": null,
      "grid_gap": null,
      "grid_row": null,
      "grid_template_areas": null,
      "grid_template_columns": null,
      "grid_template_rows": null,
      "height": null,
      "justify_content": null,
      "justify_items": null,
      "left": null,
      "margin": null,
      "max_height": null,
      "max_width": null,
      "min_height": null,
      "min_width": null,
      "object_fit": null,
      "object_position": null,
      "order": null,
      "overflow": null,
      "overflow_x": null,
      "overflow_y": null,
      "padding": null,
      "right": null,
      "top": null,
      "visibility": null,
      "width": null
     }
    },
    "d02055dd894c442280f796d130869884": {
     "model_module": "@jupyter-widgets/base",
     "model_module_version": "1.2.0",
     "model_name": "LayoutModel",
     "state": {
      "_model_module": "@jupyter-widgets/base",
      "_model_module_version": "1.2.0",
      "_model_name": "LayoutModel",
      "_view_count": null,
      "_view_module": "@jupyter-widgets/base",
      "_view_module_version": "1.2.0",
      "_view_name": "LayoutView",
      "align_content": null,
      "align_items": null,
      "align_self": null,
      "border": null,
      "bottom": null,
      "display": null,
      "flex": null,
      "flex_flow": null,
      "grid_area": null,
      "grid_auto_columns": null,
      "grid_auto_flow": null,
      "grid_auto_rows": null,
      "grid_column": null,
      "grid_gap": null,
      "grid_row": null,
      "grid_template_areas": null,
      "grid_template_columns": null,
      "grid_template_rows": null,
      "height": null,
      "justify_content": null,
      "justify_items": null,
      "left": null,
      "margin": null,
      "max_height": null,
      "max_width": null,
      "min_height": null,
      "min_width": null,
      "object_fit": null,
      "object_position": null,
      "order": null,
      "overflow": null,
      "overflow_x": null,
      "overflow_y": null,
      "padding": null,
      "right": null,
      "top": null,
      "visibility": null,
      "width": null
     }
    },
    "d1051e8fde8f4adf8718b27ddbf7c62a": {
     "model_module": "@jupyter-widgets/controls",
     "model_module_version": "1.5.0",
     "model_name": "ProgressStyleModel",
     "state": {
      "_model_module": "@jupyter-widgets/controls",
      "_model_module_version": "1.5.0",
      "_model_name": "ProgressStyleModel",
      "_view_count": null,
      "_view_module": "@jupyter-widgets/base",
      "_view_module_version": "1.2.0",
      "_view_name": "StyleView",
      "bar_color": null,
      "description_width": ""
     }
    },
    "d79cd089fe6540b091b55c677b62967e": {
     "model_module": "@jupyter-widgets/base",
     "model_module_version": "1.2.0",
     "model_name": "LayoutModel",
     "state": {
      "_model_module": "@jupyter-widgets/base",
      "_model_module_version": "1.2.0",
      "_model_name": "LayoutModel",
      "_view_count": null,
      "_view_module": "@jupyter-widgets/base",
      "_view_module_version": "1.2.0",
      "_view_name": "LayoutView",
      "align_content": null,
      "align_items": null,
      "align_self": null,
      "border": null,
      "bottom": null,
      "display": null,
      "flex": null,
      "flex_flow": null,
      "grid_area": null,
      "grid_auto_columns": null,
      "grid_auto_flow": null,
      "grid_auto_rows": null,
      "grid_column": null,
      "grid_gap": null,
      "grid_row": null,
      "grid_template_areas": null,
      "grid_template_columns": null,
      "grid_template_rows": null,
      "height": null,
      "justify_content": null,
      "justify_items": null,
      "left": null,
      "margin": null,
      "max_height": null,
      "max_width": null,
      "min_height": null,
      "min_width": null,
      "object_fit": null,
      "object_position": null,
      "order": null,
      "overflow": null,
      "overflow_x": null,
      "overflow_y": null,
      "padding": null,
      "right": null,
      "top": null,
      "visibility": null,
      "width": null
     }
    },
    "daecebdd1d6648da9a1fb55ab0c476de": {
     "model_module": "@jupyter-widgets/base",
     "model_module_version": "1.2.0",
     "model_name": "LayoutModel",
     "state": {
      "_model_module": "@jupyter-widgets/base",
      "_model_module_version": "1.2.0",
      "_model_name": "LayoutModel",
      "_view_count": null,
      "_view_module": "@jupyter-widgets/base",
      "_view_module_version": "1.2.0",
      "_view_name": "LayoutView",
      "align_content": null,
      "align_items": null,
      "align_self": null,
      "border": null,
      "bottom": null,
      "display": null,
      "flex": null,
      "flex_flow": null,
      "grid_area": null,
      "grid_auto_columns": null,
      "grid_auto_flow": null,
      "grid_auto_rows": null,
      "grid_column": null,
      "grid_gap": null,
      "grid_row": null,
      "grid_template_areas": null,
      "grid_template_columns": null,
      "grid_template_rows": null,
      "height": null,
      "justify_content": null,
      "justify_items": null,
      "left": null,
      "margin": null,
      "max_height": null,
      "max_width": null,
      "min_height": null,
      "min_width": null,
      "object_fit": null,
      "object_position": null,
      "order": null,
      "overflow": null,
      "overflow_x": null,
      "overflow_y": null,
      "padding": null,
      "right": null,
      "top": null,
      "visibility": null,
      "width": null
     }
    },
    "dd67739ea09641b396376108d1d0208b": {
     "model_module": "@jupyter-widgets/controls",
     "model_module_version": "1.5.0",
     "model_name": "DescriptionStyleModel",
     "state": {
      "_model_module": "@jupyter-widgets/controls",
      "_model_module_version": "1.5.0",
      "_model_name": "DescriptionStyleModel",
      "_view_count": null,
      "_view_module": "@jupyter-widgets/base",
      "_view_module_version": "1.2.0",
      "_view_name": "StyleView",
      "description_width": ""
     }
    },
    "de94640096be496399872f2e94bec4ad": {
     "model_module": "@jupyter-widgets/controls",
     "model_module_version": "1.5.0",
     "model_name": "ProgressStyleModel",
     "state": {
      "_model_module": "@jupyter-widgets/controls",
      "_model_module_version": "1.5.0",
      "_model_name": "ProgressStyleModel",
      "_view_count": null,
      "_view_module": "@jupyter-widgets/base",
      "_view_module_version": "1.2.0",
      "_view_name": "StyleView",
      "bar_color": null,
      "description_width": ""
     }
    },
    "e010dc5beaf6408f91b22cbac009a395": {
     "model_module": "@jupyter-widgets/controls",
     "model_module_version": "1.5.0",
     "model_name": "FloatProgressModel",
     "state": {
      "_dom_classes": [],
      "_model_module": "@jupyter-widgets/controls",
      "_model_module_version": "1.5.0",
      "_model_name": "FloatProgressModel",
      "_view_count": null,
      "_view_module": "@jupyter-widgets/controls",
      "_view_module_version": "1.5.0",
      "_view_name": "ProgressView",
      "bar_style": "success",
      "description": "",
      "description_tooltip": null,
      "layout": "IPY_MODEL_816d67b923bd4a53b427ee385943b4df",
      "max": 4542,
      "min": 0,
      "orientation": "horizontal",
      "style": "IPY_MODEL_62b3030b82724d72b2bccc65526778da",
      "value": 4542
     }
    },
    "e490e5a6fbea4c87839b4bdfadc8c52e": {
     "model_module": "@jupyter-widgets/controls",
     "model_module_version": "1.5.0",
     "model_name": "HTMLModel",
     "state": {
      "_dom_classes": [],
      "_model_module": "@jupyter-widgets/controls",
      "_model_module_version": "1.5.0",
      "_model_name": "HTMLModel",
      "_view_count": null,
      "_view_module": "@jupyter-widgets/controls",
      "_view_module_version": "1.5.0",
      "_view_name": "HTMLView",
      "description": "",
      "description_tooltip": null,
      "layout": "IPY_MODEL_f6aa342888e54445b4447a9fff11f9dc",
      "placeholder": "​",
      "style": "IPY_MODEL_89b8e5dd0da84f96965e649613e14c54",
      "value": "100%"
     }
    },
    "ed605bbbb43b4fdf9bbf8daa08093341": {
     "model_module": "@jupyter-widgets/controls",
     "model_module_version": "1.5.0",
     "model_name": "DescriptionStyleModel",
     "state": {
      "_model_module": "@jupyter-widgets/controls",
      "_model_module_version": "1.5.0",
      "_model_name": "DescriptionStyleModel",
      "_view_count": null,
      "_view_module": "@jupyter-widgets/base",
      "_view_module_version": "1.2.0",
      "_view_name": "StyleView",
      "description_width": ""
     }
    },
    "eecdc0d6ec0e499cbdbce64783ed1123": {
     "model_module": "@jupyter-widgets/controls",
     "model_module_version": "1.5.0",
     "model_name": "HBoxModel",
     "state": {
      "_dom_classes": [],
      "_model_module": "@jupyter-widgets/controls",
      "_model_module_version": "1.5.0",
      "_model_name": "HBoxModel",
      "_view_count": null,
      "_view_module": "@jupyter-widgets/controls",
      "_view_module_version": "1.5.0",
      "_view_name": "HBoxView",
      "box_style": "",
      "children": [
       "IPY_MODEL_5c247e41508f4bdb8b7c768bf093accb",
       "IPY_MODEL_1e655534822245e8adb36db4cb115d13",
       "IPY_MODEL_10ba0efce9e5430c902cdcf56bab09e4"
      ],
      "layout": "IPY_MODEL_f243551123fc4dd6a05a9486200614a5"
     }
    },
    "f243551123fc4dd6a05a9486200614a5": {
     "model_module": "@jupyter-widgets/base",
     "model_module_version": "1.2.0",
     "model_name": "LayoutModel",
     "state": {
      "_model_module": "@jupyter-widgets/base",
      "_model_module_version": "1.2.0",
      "_model_name": "LayoutModel",
      "_view_count": null,
      "_view_module": "@jupyter-widgets/base",
      "_view_module_version": "1.2.0",
      "_view_name": "LayoutView",
      "align_content": null,
      "align_items": null,
      "align_self": null,
      "border": null,
      "bottom": null,
      "display": null,
      "flex": null,
      "flex_flow": null,
      "grid_area": null,
      "grid_auto_columns": null,
      "grid_auto_flow": null,
      "grid_auto_rows": null,
      "grid_column": null,
      "grid_gap": null,
      "grid_row": null,
      "grid_template_areas": null,
      "grid_template_columns": null,
      "grid_template_rows": null,
      "height": null,
      "justify_content": null,
      "justify_items": null,
      "left": null,
      "margin": null,
      "max_height": null,
      "max_width": null,
      "min_height": null,
      "min_width": null,
      "object_fit": null,
      "object_position": null,
      "order": null,
      "overflow": null,
      "overflow_x": null,
      "overflow_y": null,
      "padding": null,
      "right": null,
      "top": null,
      "visibility": null,
      "width": null
     }
    },
    "f6aa342888e54445b4447a9fff11f9dc": {
     "model_module": "@jupyter-widgets/base",
     "model_module_version": "1.2.0",
     "model_name": "LayoutModel",
     "state": {
      "_model_module": "@jupyter-widgets/base",
      "_model_module_version": "1.2.0",
      "_model_name": "LayoutModel",
      "_view_count": null,
      "_view_module": "@jupyter-widgets/base",
      "_view_module_version": "1.2.0",
      "_view_name": "LayoutView",
      "align_content": null,
      "align_items": null,
      "align_self": null,
      "border": null,
      "bottom": null,
      "display": null,
      "flex": null,
      "flex_flow": null,
      "grid_area": null,
      "grid_auto_columns": null,
      "grid_auto_flow": null,
      "grid_auto_rows": null,
      "grid_column": null,
      "grid_gap": null,
      "grid_row": null,
      "grid_template_areas": null,
      "grid_template_columns": null,
      "grid_template_rows": null,
      "height": null,
      "justify_content": null,
      "justify_items": null,
      "left": null,
      "margin": null,
      "max_height": null,
      "max_width": null,
      "min_height": null,
      "min_width": null,
      "object_fit": null,
      "object_position": null,
      "order": null,
      "overflow": null,
      "overflow_x": null,
      "overflow_y": null,
      "padding": null,
      "right": null,
      "top": null,
      "visibility": null,
      "width": null
     }
    }
   }
  }
 },
 "nbformat": 4,
 "nbformat_minor": 1
}
